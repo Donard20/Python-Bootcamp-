{
 "cells": [
  {
   "cell_type": "markdown",
   "id": "eb7f747c",
   "metadata": {},
   "source": [
    "# Creating & Calling Functions"
   ]
  },
  {
   "cell_type": "markdown",
   "id": "f503ad1e",
   "metadata": {},
   "source": [
    "### Monday"
   ]
  },
  {
   "cell_type": "code",
   "execution_count": 1,
   "id": "11763b5a",
   "metadata": {},
   "outputs": [
    {
     "name": "stdout",
     "output_type": "stream",
     "text": [
      "Name: John Smith\n",
      "Age: 45\n",
      "Name: John Smith\n",
      "Age: 45\n"
     ]
    }
   ],
   "source": [
    "# writing your first function\n",
    "def printInfo( ): # defines what the function does when called\n",
    "    print(\"Name: John Smith\")\n",
    "    print(\"Age: 45\")\n",
    "printInfo( ) # calls the function to run\n",
    "printInfo( ) # calls the function again"
   ]
  },
  {
   "cell_type": "code",
   "execution_count": 2,
   "id": "d384a95e",
   "metadata": {},
   "outputs": [
    {
     "name": "stdout",
     "output_type": "stream",
     "text": [
      "15\n"
     ]
    }
   ],
   "source": [
    "# performing a calculation in a function\n",
    "def calc( ):\n",
    "    x, y = 5, 10\n",
    "    print(x + y)\n",
    "calc( ) # will run the block of code within calc and output 15"
   ]
  },
  {
   "cell_type": "markdown",
   "id": "668ede2d",
   "metadata": {},
   "source": [
    "MONDAY EXERCISES"
   ]
  },
  {
   "cell_type": "markdown",
   "id": "0a5f5c6c",
   "metadata": {},
   "source": [
    "1. Print Name: Define a function called myName, and have it print out your name\n",
    "when called."
   ]
  },
  {
   "cell_type": "code",
   "execution_count": 4,
   "id": "262e9575",
   "metadata": {},
   "outputs": [
    {
     "name": "stdout",
     "output_type": "stream",
     "text": [
      "Don\n"
     ]
    }
   ],
   "source": [
    "def myName():\n",
    "    print(\"Don\")\n",
    "myName()"
   ]
  },
  {
   "cell_type": "markdown",
   "id": "875fe7fb",
   "metadata": {},
   "source": [
    "2. Pizza Toppings: Define a function that prints out all your favorite pizza toppings\n",
    "called pizzaToppings. Call the function three times."
   ]
  },
  {
   "cell_type": "code",
   "execution_count": 5,
   "id": "6128948d",
   "metadata": {},
   "outputs": [
    {
     "name": "stdout",
     "output_type": "stream",
     "text": [
      "Cheese\n",
      "Meat\n",
      "Dough\n",
      "Mozarella\n",
      "Tomato\n",
      "Cheese\n",
      "Meat\n",
      "Dough\n",
      "Mozarella\n",
      "Tomato\n",
      "Cheese\n",
      "Meat\n",
      "Dough\n",
      "Mozarella\n",
      "Tomato\n"
     ]
    }
   ],
   "source": [
    "def myPizzaToppings():\n",
    "    print(\"Cheese\")\n",
    "    print(\"Meat\")\n",
    "    print(\"Dough\")\n",
    "    print(\"Mozarella\")\n",
    "    print(\"Tomato\")\n",
    "myPizzaToppings()\n",
    "myPizzaToppings()\n",
    "myPizzaToppings()"
   ]
  },
  {
   "cell_type": "markdown",
   "id": "0d10e092",
   "metadata": {},
   "source": [
    "### Tuesday: Parameters"
   ]
  },
  {
   "cell_type": "code",
   "execution_count": 6,
   "id": "0190bf8f",
   "metadata": {},
   "outputs": [
    {
     "name": "stdout",
     "output_type": "stream",
     "text": [
      "Your name is: John Smith\n",
      "Your name is: Amanda\n"
     ]
    }
   ],
   "source": [
    "# passing a single parameter into a function\n",
    "def printName(full_name):\n",
    "    print( \"Your name is: {}\".format(full_name) )\n",
    "printName(\"John Smith\")\n",
    "printName(\"Amanda\")"
   ]
  },
  {
   "cell_type": "code",
   "execution_count": 7,
   "id": "5b2c004c",
   "metadata": {},
   "outputs": [
    {
     "name": "stdout",
     "output_type": "stream",
     "text": [
      "5 + 8 = 13\n",
      "3.5 + 5.5 = 9.0\n"
     ]
    }
   ],
   "source": [
    "# passing multiple parameters into a function\n",
    "def addNums(num1, num2):\n",
    "    result = num1 + num2\n",
    "    print( \"{} + {} = {}\".format(num1, num2, result) )\n",
    "addNums(5, 8) # will output 13\n",
    "addNums(3.5, 5.5) # will output 9.0"
   ]
  },
  {
   "cell_type": "code",
   "execution_count": 8,
   "id": "1959f4d4",
   "metadata": {
    "scrolled": true
   },
   "outputs": [
    {
     "name": "stdout",
     "output_type": "stream",
     "text": [
      "4\n",
      "16\n",
      "25\n",
      "100\n",
      "1\n",
      "9\n",
      "36\n"
     ]
    }
   ],
   "source": [
    "# Passing a List\n",
    "# using a function to square all information\n",
    "numbers1 = [ 2, 4, 5, 10 ]\n",
    "numbers2 = [ 1, 3, 6 ]\n",
    "def squares(nums):\n",
    "    for num in nums:\n",
    "        print(num**2)\n",
    "squares(numbers1)\n",
    "squares(numbers2)"
   ]
  },
  {
   "cell_type": "code",
   "execution_count": 10,
   "id": "b32fd35f",
   "metadata": {},
   "outputs": [
    {
     "name": "stdout",
     "output_type": "stream",
     "text": [
      "Area: 12.56\n"
     ]
    }
   ],
   "source": [
    "# Default Parameters\n",
    "# setting default parameter values\n",
    "def calcArea(r, pi=3.14):\n",
    "    area = pi * (r**2)\n",
    "    print( \"Area: {}\".format(area) )\n",
    "calcArea(2) # assuming radius is the value of 2"
   ]
  },
  {
   "cell_type": "code",
   "execution_count": 11,
   "id": "a3b3187c",
   "metadata": {},
   "outputs": [
    {
     "name": "stdout",
     "output_type": "stream",
     "text": [
      "John Smith\n",
      "John Paul Smith\n"
     ]
    }
   ],
   "source": [
    "# Making Parameters Optional\n",
    "# setting default parameter values\n",
    "def printName(first, last, middle=\"\"):\n",
    "    if middle:\n",
    "        print( \"{} {} {}\".format(first, middle, last) )\n",
    "    else:\n",
    "        print( \"{} {}\".format(first, last) )\n",
    "printName(\"John\", \"Smith\")\n",
    "printName(\"John\", \"Smith\", \"Paul\") # will output with middle name"
   ]
  },
  {
   "cell_type": "code",
   "execution_count": 12,
   "id": "46060185",
   "metadata": {
    "scrolled": false
   },
   "outputs": [
    {
     "name": "stdout",
     "output_type": "stream",
     "text": [
      "2.5\n",
      "5\n"
     ]
    }
   ],
   "source": [
    "# explicity assigning values to parameters by referencing the name\n",
    "def addNums(num1, num2):\n",
    "    print(num2)\n",
    "    print(num1)\n",
    "addNums(5, num2 = 2.5)"
   ]
  },
  {
   "cell_type": "markdown",
   "id": "6c5bc947",
   "metadata": {},
   "source": [
    "# *args"
   ]
  },
  {
   "cell_type": "code",
   "execution_count": null,
   "id": "d220e8d4",
   "metadata": {},
   "outputs": [],
   "source": [
    "# using args parameter to take in a tuple of arbitrary values\n",
    "def outputData(name, *args):\n",
    "    print( type(args) )\n",
    "    for arg in args:\n",
    "        print(arg)\n",
    "outputData(\"John Smith\", 5, True, \"Jess\")"
   ]
  },
  {
   "cell_type": "markdown",
   "id": "0cb8338d",
   "metadata": {},
   "source": [
    "# **kwargs"
   ]
  },
  {
   "cell_type": "code",
   "execution_count": 15,
   "id": "5768c4e9",
   "metadata": {},
   "outputs": [
    {
     "name": "stdout",
     "output_type": "stream",
     "text": [
      "<class 'dict'>\n",
      "John Smith\n",
      "5\n"
     ]
    }
   ],
   "source": [
    "# using kwargs parameter to take in a dictionary of arbitrary values\n",
    "def outputData(**kwargs):\n",
    "    print( type(kwargs) )\n",
    "    print( kwargs[ \"name\" ] )\n",
    "    print( kwargs[ \"num\" ] )\n",
    "outputData(name = \"John Smith\", num = 5, b = True)"
   ]
  },
  {
   "cell_type": "markdown",
   "id": "2c4e9595",
   "metadata": {},
   "source": [
    "TUESDAY EXERCISES"
   ]
  },
  {
   "cell_type": "markdown",
   "id": "6d09a6d5",
   "metadata": {},
   "source": [
    "1. User Input: Ask the user to input a word, and pass that word into a function\n",
    "that checks if the word starts with an uppercase. If it does output “True”,\n",
    "otherwise “False”."
   ]
  },
  {
   "cell_type": "code",
   "execution_count": 17,
   "id": "52070ae0",
   "metadata": {},
   "outputs": [
    {
     "name": "stdout",
     "output_type": "stream",
     "text": [
      "Write your name: Don\n",
      "True\n",
      "Write your name: don\n",
      "False\n"
     ]
    }
   ],
   "source": [
    "# my answer\n",
    "def myName(name):\n",
    "    if name[0] != name[0].upper():\n",
    "        print(False)\n",
    "    else:\n",
    "        print(True)\n",
    "myName(input(\"Write your name: \"))\n",
    "myName(input(\"Write your name: \"))"
   ]
  },
  {
   "cell_type": "markdown",
   "id": "e28246d8",
   "metadata": {},
   "source": [
    "2. No Name: Define a function that takes in two arguments, first_name and last_\n",
    "name, and makes both optional. If no values are passed into the parameters, it\n",
    "should output “No name passed in”; otherwise, it should print out the name."
   ]
  },
  {
   "cell_type": "code",
   "execution_count": 18,
   "id": "97f20a29",
   "metadata": {},
   "outputs": [
    {
     "name": "stdout",
     "output_type": "stream",
     "text": [
      "No name passed in.\n",
      "Connor \n",
      "Connor Milliken\n"
     ]
    }
   ],
   "source": [
    "def outputName(first_name='', last_name=''):\n",
    "    if not first_name and not last_name:\n",
    "        print(\"No name passed in.\")\n",
    "    else:\n",
    "        print(first_name, last_name)\n",
    "        \n",
    "outputName()\n",
    "outputName('Connor')\n",
    "outputName('Connor', 'Milliken')"
   ]
  },
  {
   "cell_type": "markdown",
   "id": "e498a321",
   "metadata": {},
   "source": [
    "### Wednesday: Return Statement"
   ]
  },
  {
   "cell_type": "code",
   "execution_count": 20,
   "id": "94fa9e2f",
   "metadata": {},
   "outputs": [
    {
     "name": "stdout",
     "output_type": "stream",
     "text": [
      "10.0\n",
      "20\n"
     ]
    }
   ],
   "source": [
    "# using return keyword to return the sum of two numbers\n",
    "def addNums(num1, num2):\n",
    "    return num1 + num2\n",
    "num = addNums(5.5, 4.5) # saves returned value into num\n",
    "print(num)\n",
    "print( addNums(10, 10) ) # doesn't save returned value"
   ]
  },
  {
   "cell_type": "code",
   "execution_count": 21,
   "id": "6975ee88",
   "metadata": {},
   "outputs": [
    {
     "name": "stdout",
     "output_type": "stream",
     "text": [
      "True\n"
     ]
    }
   ],
   "source": [
    "# shorthand syntax using a ternary operator\n",
    "def searchList(aList, el):\n",
    "    return True if el in aList else False\n",
    "result = searchList( [ \"one\", 2, \"three\" ], 2) # result = True\n",
    "print(result)"
   ]
  },
  {
   "cell_type": "markdown",
   "id": "052518c8",
   "metadata": {},
   "source": [
    "WEDNESDAY EXERCISES"
   ]
  },
  {
   "cell_type": "markdown",
   "id": "88252018",
   "metadata": {},
   "source": [
    "1. Full Name: Create a function that takes in a first and last name and returns the\n",
    "two names joined together."
   ]
  },
  {
   "cell_type": "code",
   "execution_count": 23,
   "id": "60b0df24",
   "metadata": {},
   "outputs": [
    {
     "name": "stdout",
     "output_type": "stream",
     "text": [
      "Write your first name: Don\n",
      "Write your last name: Azura\n",
      "Don Azura\n"
     ]
    }
   ],
   "source": [
    "\n",
    "first_name = str(input(\"Write your first name: \"))\n",
    "last_name = str(input(\"Write your last name: \"))\n",
    "\n",
    "def fullName(first_name, last_name):\n",
    "\n",
    "        return print(\"{} {}\".format(first_name, last_name))\n",
    "        \n",
    "fullName(first_name, last_name)"
   ]
  },
  {
   "cell_type": "markdown",
   "id": "f782b178",
   "metadata": {},
   "source": [
    "2. User Input: Within a function, ask for user input. Have this function return that\n",
    "input to be stored in a variable outside of the function. Then print out the input."
   ]
  },
  {
   "cell_type": "code",
   "execution_count": 1,
   "id": "0dda8296",
   "metadata": {},
   "outputs": [
    {
     "name": "stdout",
     "output_type": "stream",
     "text": [
      "Write anything and I will print it Hello World\n",
      "You type: Hello World\n"
     ]
    }
   ],
   "source": [
    "\n",
    "ask = str(input(\"Write anything and I will print it \"))\n",
    "\n",
    "\n",
    "def fullName(ask):\n",
    "\n",
    "        return print(\"You type: {}\".format(ask))\n",
    "        \n",
    "fullName(ask)"
   ]
  },
  {
   "cell_type": "markdown",
   "id": "1ecffff2",
   "metadata": {},
   "source": [
    "### Thursday: Scope"
   ]
  },
  {
   "cell_type": "code",
   "execution_count": 2,
   "id": "90955340",
   "metadata": {},
   "outputs": [
    {
     "ename": "UnboundLocalError",
     "evalue": "local variable 'number' referenced before assignment",
     "output_type": "error",
     "traceback": [
      "\u001b[1;31m---------------------------------------------------------------------------\u001b[0m",
      "\u001b[1;31mUnboundLocalError\u001b[0m                         Traceback (most recent call last)",
      "\u001b[1;32m~\\AppData\\Local\\Temp\\ipykernel_17264\\2592976256.py\u001b[0m in \u001b[0;36m<module>\u001b[1;34m\u001b[0m\n\u001b[0;32m      3\u001b[0m \u001b[1;32mdef\u001b[0m \u001b[0mscopeTest\u001b[0m\u001b[1;33m(\u001b[0m \u001b[1;33m)\u001b[0m\u001b[1;33m:\u001b[0m\u001b[1;33m\u001b[0m\u001b[1;33m\u001b[0m\u001b[0m\n\u001b[0;32m      4\u001b[0m     \u001b[0mnumber\u001b[0m \u001b[1;33m+=\u001b[0m \u001b[1;36m1\u001b[0m \u001b[1;31m# not accessible due to function level scope\u001b[0m\u001b[1;33m\u001b[0m\u001b[1;33m\u001b[0m\u001b[0m\n\u001b[1;32m----> 5\u001b[1;33m \u001b[0mscopeTest\u001b[0m\u001b[1;33m(\u001b[0m \u001b[1;33m)\u001b[0m\u001b[1;33m\u001b[0m\u001b[1;33m\u001b[0m\u001b[0m\n\u001b[0m",
      "\u001b[1;32m~\\AppData\\Local\\Temp\\ipykernel_17264\\2592976256.py\u001b[0m in \u001b[0;36mscopeTest\u001b[1;34m()\u001b[0m\n\u001b[0;32m      2\u001b[0m \u001b[0mnumber\u001b[0m \u001b[1;33m=\u001b[0m \u001b[1;36m5\u001b[0m\u001b[1;33m\u001b[0m\u001b[1;33m\u001b[0m\u001b[0m\n\u001b[0;32m      3\u001b[0m \u001b[1;32mdef\u001b[0m \u001b[0mscopeTest\u001b[0m\u001b[1;33m(\u001b[0m \u001b[1;33m)\u001b[0m\u001b[1;33m:\u001b[0m\u001b[1;33m\u001b[0m\u001b[1;33m\u001b[0m\u001b[0m\n\u001b[1;32m----> 4\u001b[1;33m     \u001b[0mnumber\u001b[0m \u001b[1;33m+=\u001b[0m \u001b[1;36m1\u001b[0m \u001b[1;31m# not accessible due to function level scope\u001b[0m\u001b[1;33m\u001b[0m\u001b[1;33m\u001b[0m\u001b[0m\n\u001b[0m\u001b[0;32m      5\u001b[0m \u001b[0mscopeTest\u001b[0m\u001b[1;33m(\u001b[0m \u001b[1;33m)\u001b[0m\u001b[1;33m\u001b[0m\u001b[1;33m\u001b[0m\u001b[0m\n",
      "\u001b[1;31mUnboundLocalError\u001b[0m: local variable 'number' referenced before assignment"
     ]
    }
   ],
   "source": [
    "# where global variables can be accessed\n",
    "number = 5\n",
    "def scopeTest( ):\n",
    "    number += 1 # not accessible due to function level scope\n",
    "scopeTest( )"
   ]
  },
  {
   "cell_type": "code",
   "execution_count": 3,
   "id": "68661454",
   "metadata": {},
   "outputs": [
    {
     "name": "stdout",
     "output_type": "stream",
     "text": [
      "function\n"
     ]
    }
   ],
   "source": [
    "# accessing variables defined in a function\n",
    "def scopeTest( ):\n",
    "    word = \"function\"\n",
    "    return word\n",
    "value = scopeTest( )\n",
    "print(value)"
   ]
  },
  {
   "cell_type": "code",
   "execution_count": 4,
   "id": "6479788c",
   "metadata": {},
   "outputs": [
    {
     "name": "stdout",
     "output_type": "stream",
     "text": [
      "Before Altering: ['baseball', 'football', 'hockey', 'basketball']\n",
      "After Altering: ['soccer', 'football', 'hockey', 'basketball']\n"
     ]
    }
   ],
   "source": [
    "# changing list item values by index\n",
    "sports = [ \"baseball\", \"football\", \"hockey\", \"basketball\" ]\n",
    "def change(aList):\n",
    "    aList[ 0 ] = \"soccer\"\n",
    "print(\"Before Altering: {}\".format(sports) )\n",
    "change(sports)\n",
    "print( \"After Altering: {}\".format(sports) )"
   ]
  },
  {
   "cell_type": "markdown",
   "id": "2d4f4780",
   "metadata": {},
   "source": [
    "THURSDAY EXERCISES\n",
    "1. Names: Create a function that will change the list passed in"
   ]
  },
  {
   "cell_type": "code",
   "execution_count": 6,
   "id": "6f4e1539",
   "metadata": {},
   "outputs": [
    {
     "name": "stdout",
     "output_type": "stream",
     "text": [
      "Before Altering: ['Bob', 'Rich', 'Amanda']\n",
      "Before Altering: ['Bob', 'Bill', 'Amanda']\n"
     ]
    }
   ],
   "source": [
    "# changing list item values by index\n",
    "names = ['Bob', 'Rich', 'Amanda']\n",
    "def changeValue(aList, name, index):\n",
    "    aList[ index ] = name\n",
    "print(\"Before Altering: {}\".format(names) )\n",
    "changeValue(names, \"Bill\", 1 )\n",
    "print(\"Before Altering: {}\".format(names) )"
   ]
  }
 ],
 "metadata": {
  "kernelspec": {
   "display_name": "Python 3 (ipykernel)",
   "language": "python",
   "name": "python3"
  },
  "language_info": {
   "codemirror_mode": {
    "name": "ipython",
    "version": 3
   },
   "file_extension": ".py",
   "mimetype": "text/x-python",
   "name": "python",
   "nbconvert_exporter": "python",
   "pygments_lexer": "ipython3",
   "version": "3.9.13"
  }
 },
 "nbformat": 4,
 "nbformat_minor": 5
}
