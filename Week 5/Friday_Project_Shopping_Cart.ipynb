{
 "cells": [
  {
   "cell_type": "markdown",
   "id": "9093d75e",
   "metadata": {},
   "source": [
    "# Friday Project: Creating a Shopping Cart"
   ]
  },
  {
   "cell_type": "code",
   "execution_count": 2,
   "id": "7350d101",
   "metadata": {},
   "outputs": [
    {
     "name": "stdout",
     "output_type": "stream",
     "text": [
      "Here is your cart:\n",
      "- Papaya\n",
      "- Tomato\n",
      "- Garlic\n"
     ]
    }
   ],
   "source": [
    "# import necessary functions\n",
    "from IPython.display import clear_output\n",
    "# global list variable\n",
    "cart = [ ]\n",
    "\n",
    "# Adding Items\n",
    "# create function to add items to cart\n",
    "def addItem(item):\n",
    "    clear_output( )\n",
    "    cart.append(item)\n",
    "    print( \"{} has been added.\".format(item) )\n",
    "# Removing Items\n",
    "# create function to remove items from cart\n",
    "def removeItem(item):\n",
    "    clear_output( )\n",
    "    try:\n",
    "        cart.remove(item)\n",
    "        print( \"{} has been removed.\".format(item) )\n",
    "    except:\n",
    "        print(\"Sorry we could not remove that item.\")\n",
    "# Showing the Cart\n",
    "# create a function to show items in cart\n",
    "def showCart( ):\n",
    "    clear_output( )\n",
    "    if cart:\n",
    "        print(\"Here is your cart:\")\n",
    "        for item in cart:\n",
    "            print( \"- {}\".format(item) )\n",
    "    else:\n",
    "        print(\"Your cart is empty.\")\n",
    " # Clearing the Cart\n",
    "# create function to clear items from cart\n",
    "def clearCart( ):\n",
    "    clear_output( )\n",
    "    cart.clear( )\n",
    "    print(\"Your cart is empty.\")\n",
    "# Creating the Main Loop\n",
    "# create main function that loops until the user quits\n",
    "def main( ):\n",
    "    done = False\n",
    "    while not done:\n",
    "        ans = input(\"quit/add/remove/show/clear: \").lower( )\n",
    "        # base case\n",
    "        if ans == \"quit\":\n",
    "            print(\"Thanks for using our program.\")\n",
    "            showCart( )\n",
    "            done = True\n",
    "\n",
    "        elif ans == \"add\":\n",
    "                item = input(\"What would you like to add? \").title( )\n",
    "                addItem(item)\n",
    "        elif ans == \"remove\":\n",
    "                showCart( )\n",
    "                item = input(\"What item would you like to remove? \").title( )\n",
    "                removeItem(item)\n",
    "        elif ans == \"show\":\n",
    "                showCart( )\n",
    "        elif ans == \"clear\":\n",
    "                clearCart( )\n",
    "        else:\n",
    "            print(\"Sorry that was not an option.\")\n",
    "\n",
    "main( ) # run the program"
   ]
  },
  {
   "cell_type": "code",
   "execution_count": null,
   "id": "a423a3b8",
   "metadata": {},
   "outputs": [],
   "source": []
  }
 ],
 "metadata": {
  "kernelspec": {
   "display_name": "Python 3 (ipykernel)",
   "language": "python",
   "name": "python3"
  },
  "language_info": {
   "codemirror_mode": {
    "name": "ipython",
    "version": 3
   },
   "file_extension": ".py",
   "mimetype": "text/x-python",
   "name": "python",
   "nbconvert_exporter": "python",
   "pygments_lexer": "ipython3",
   "version": "3.9.13"
  }
 },
 "nbformat": 4,
 "nbformat_minor": 5
}
