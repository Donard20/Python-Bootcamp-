{
 "cells": [
  {
   "cell_type": "markdown",
   "id": "d4a6dc9e",
   "metadata": {},
   "source": [
    "# Week 01"
   ]
  },
  {
   "cell_type": "markdown",
   "id": "fabdd04a",
   "metadata": {},
   "source": [
    "## Getting Started"
   ]
  },
  {
   "cell_type": "code",
   "execution_count": 7,
   "id": "d3f9509f",
   "metadata": {},
   "outputs": [
    {
     "name": "stdout",
     "output_type": "stream",
     "text": [
      "Hello, buddy!\n"
     ]
    }
   ],
   "source": [
    "# this is python\n",
    "print(\"Hello, buddy!\")"
   ]
  },
  {
   "cell_type": "code",
   "execution_count": 6,
   "id": "f58d6b03",
   "metadata": {},
   "outputs": [],
   "source": [
    "# this is the first line in the cell\n",
    "# this is the fifth line in the cell"
   ]
  }
 ],
 "metadata": {
  "kernelspec": {
   "display_name": "Python 3 (ipykernel)",
   "language": "python",
   "name": "python3"
  },
  "language_info": {
   "codemirror_mode": {
    "name": "ipython",
    "version": 3
   },
   "file_extension": ".py",
   "mimetype": "text/x-python",
   "name": "python",
   "nbconvert_exporter": "python",
   "pygments_lexer": "ipython3",
   "version": "3.9.13"
  }
 },
 "nbformat": 4,
 "nbformat_minor": 5
}
