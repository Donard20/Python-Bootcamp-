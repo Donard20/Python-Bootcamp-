{
 "cells": [
  {
   "cell_type": "markdown",
   "id": "6d4706c1",
   "metadata": {},
   "source": [
    "# Week 6: Data Collections and Files"
   ]
  },
  {
   "cell_type": "markdown",
   "id": "715e2183",
   "metadata": {},
   "source": [
    "### Monday: Dictionaries"
   ]
  },
  {
   "cell_type": "code",
   "execution_count": 2,
   "id": "b065f496",
   "metadata": {},
   "outputs": [
    {
     "name": "stdout",
     "output_type": "stream",
     "text": [
      "{'name': 'Morty', 'age': 26}\n"
     ]
    }
   ],
   "source": [
    "# declaring a dictionary variable\n",
    "empty = { } # empty dictionary\n",
    "person = { \"name\": \"John Smith\" }\n",
    "# dictionary with one key/value pair\n",
    "customer = {\n",
    "    \"name\": \"Morty\",\n",
    "    \"age\": 26\n",
    "} # dictionary with two key/value pairs\n",
    "print(customer)"
   ]
  },
  {
   "cell_type": "code",
   "execution_count": 4,
   "id": "db729413",
   "metadata": {},
   "outputs": [
    {
     "name": "stdout",
     "output_type": "stream",
     "text": [
      "John\n"
     ]
    }
   ],
   "source": [
    "# accessing dictionary information through keys\n",
    "person = { \"name\": \"John\" }\n",
    "print( person[ \"name\" ] ) # access information through the key"
   ]
  },
  {
   "cell_type": "code",
   "execution_count": 6,
   "id": "a0072983",
   "metadata": {},
   "outputs": [
    {
     "name": "stdout",
     "output_type": "stream",
     "text": [
      "John\n",
      "Age is not available.\n"
     ]
    }
   ],
   "source": [
    "# using the get method to access dictionary information\n",
    "person = { \"name\": \"John\" }\n",
    "print( person.get(\"name\") ) # retrieves value of name key as before\n",
    "print( person.get(\"age\", \"Age is not available.\") ) # get is a secureway to retrieve information"
   ]
  },
  {
   "cell_type": "code",
   "execution_count": 7,
   "id": "4793eb58",
   "metadata": {},
   "outputs": [
    {
     "name": "stdout",
     "output_type": "stream",
     "text": [
      "baseball\n"
     ]
    }
   ],
   "source": [
    "# storing a list within a dictionary and accessing it\n",
    "data = { \"sports\": [ \"baseball\", \"football\", \"hockey\", \"soccer\" ] }\n",
    "print( data[\"sports\"][0] ) # first access the key, then the index"
   ]
  },
  {
   "cell_type": "code",
   "execution_count": 10,
   "id": "923a9275",
   "metadata": {},
   "outputs": [
    {
     "ename": "ValueError",
     "evalue": "dictionary update sequence element #0 has length 8; 2 is required",
     "output_type": "error",
     "traceback": [
      "\u001b[1;31m---------------------------------------------------------------------------\u001b[0m",
      "\u001b[1;31mValueError\u001b[0m                                Traceback (most recent call last)",
      "\u001b[1;32m~\\AppData\\Local\\Temp\\ipykernel_23088\\2448012664.py\u001b[0m in \u001b[0;36m<module>\u001b[1;34m\u001b[0m\n\u001b[0;32m      1\u001b[0m \u001b[1;31m# improperly storing a list within a dictionary\u001b[0m\u001b[1;33m\u001b[0m\u001b[1;33m\u001b[0m\u001b[0m\n\u001b[0;32m      2\u001b[0m \u001b[0msports\u001b[0m \u001b[1;33m=\u001b[0m \u001b[1;33m[\u001b[0m \u001b[1;34m\"baseball\"\u001b[0m\u001b[1;33m,\u001b[0m \u001b[1;34m\"football\"\u001b[0m\u001b[1;33m,\u001b[0m \u001b[1;34m\"hockey\"\u001b[0m\u001b[1;33m,\u001b[0m \u001b[1;34m\"soccer\"\u001b[0m \u001b[1;33m]\u001b[0m\u001b[1;33m\u001b[0m\u001b[1;33m\u001b[0m\u001b[0m\n\u001b[1;32m----> 3\u001b[1;33m \u001b[0msports_dict\u001b[0m \u001b[1;33m=\u001b[0m \u001b[0mdict\u001b[0m\u001b[1;33m(\u001b[0m \u001b[0msports\u001b[0m \u001b[1;33m)\u001b[0m \u001b[1;31m# will produce error, no key\u001b[0m\u001b[1;33m\u001b[0m\u001b[1;33m\u001b[0m\u001b[0m\n\u001b[0m",
      "\u001b[1;31mValueError\u001b[0m: dictionary update sequence element #0 has length 8; 2 is required"
     ]
    }
   ],
   "source": [
    "# improperly storing a list within a dictionary\n",
    "sports = [ \"baseball\", \"football\", \"hockey\", \"soccer\" ]\n",
    "sports_dict = dict( sports ) # will produce error, no key"
   ]
  },
  {
   "cell_type": "code",
   "execution_count": 15,
   "id": "889d8676",
   "metadata": {},
   "outputs": [
    {
     "name": "stdout",
     "output_type": "stream",
     "text": [
      "{'sports': ['baseball', 'football', 'hockey', 'soccer']}\n"
     ]
    }
   ],
   "source": [
    "# improperly storing a list within a dictionary\n",
    "sports = [ \"baseball\", \"football\", \"hockey\", \"soccer\" ]\n",
    "sports_dict = dict( { \"sports\" : sports } ) # will produce error, no key\n",
    "print(sports_dict)"
   ]
  },
  {
   "cell_type": "code",
   "execution_count": 13,
   "id": "d2966e19",
   "metadata": {},
   "outputs": [
    {
     "name": "stdout",
     "output_type": "stream",
     "text": [
      "{'name': 'Kirsten'}\n",
      "Kirsten\n"
     ]
    }
   ],
   "source": [
    "# storing a dictionary within a list and accessing it\n",
    "data = [ \"John\", \"Dennis\", { \"name\": \"Kirsten\" } ]\n",
    "print( data[2] ) # the dictionary is in index 2\n",
    "print( data[2][\"name\"] ) # first access the index, then access the key"
   ]
  },
  {
   "cell_type": "code",
   "execution_count": 14,
   "id": "fc21894f",
   "metadata": {},
   "outputs": [
    {
     "name": "stdout",
     "output_type": "stream",
     "text": [
      "{'2018': 108, '2017': 93}\n",
      "108\n"
     ]
    }
   ],
   "source": [
    "# storing a dictionary within a dictionary and accessing it\n",
    "data = {\n",
    "    \"team\": \"Boston Red Sox\",\n",
    "    \"wins\": { \"2018\": 108, \"2017\": 93 }\n",
    "}\n",
    "print( data[\"wins\"] ) # will output the dictionary within the wins key\n",
    "print( data[\"wins\"][\"2018\"] ) # first access the wins key, then the next key"
   ]
  },
  {
   "cell_type": "markdown",
   "id": "aacaa554",
   "metadata": {},
   "source": [
    "MONDAY EXERCISES"
   ]
  },
  {
   "cell_type": "markdown",
   "id": "20646dce",
   "metadata": {},
   "source": [
    "1. User Input: Ask the user for their name and age, and then create a dictionary\n",
    "with those key-value pairs. Output the dictionary once created."
   ]
  },
  {
   "cell_type": "code",
   "execution_count": 17,
   "id": "94e29017",
   "metadata": {
    "scrolled": true
   },
   "outputs": [
    {
     "name": "stdout",
     "output_type": "stream",
     "text": [
      "name: Don\n",
      "age: 25\n",
      "Try again: y/n y\n",
      "name: Jozy\n",
      "age: 25\n",
      "Try again: y/n n\n",
      "This is your information in dictionary form: {'Jozy': 25}\n",
      "Thank you for using this program \n",
      "Exit\n"
     ]
    }
   ],
   "source": [
    "stat = True\n",
    "while stat:\n",
    "\n",
    "        name = str(input(\"name: \"))\n",
    "        age = int(input(\"age: \"))\n",
    "\n",
    "        q = str(input(\"Try again: y/n \").lower())\n",
    "        if q == \"y\":\n",
    "            continue\n",
    "        elif q == \"n\":\n",
    "            h = {name : age}\n",
    "            print(\"This is your information in dictionary form: {}\".format(h))\n",
    "            print(\"Thank you for using this program \\nExit\")\n",
    "            stat = False\n",
    "        else:\n",
    "            print(\"invalid Key \\nExit\")\n",
    "            stat = False\n"
   ]
  },
  {
   "cell_type": "markdown",
   "id": "2c93d73b",
   "metadata": {},
   "source": [
    "2. Accessing Ingredients: Output all the ingredients from the following list within\n",
    "the “ingredients” key using a for loop:"
   ]
  },
  {
   "cell_type": "code",
   "execution_count": 18,
   "id": "4bdc75e3",
   "metadata": {
    "scrolled": true
   },
   "outputs": [
    {
     "name": "stdout",
     "output_type": "stream",
     "text": [
      "Here is the list of ingredients for Pizza!:\n",
      "   cheese\n",
      "   sausage\n",
      "   peppers\n"
     ]
    }
   ],
   "source": [
    "pizza = {'ingredients': ['cheese', 'sausage', 'peppers']}\n",
    "\n",
    "for i in pizza.values(): # iterate and get access to values\n",
    "    print(\"Here is the list of ingredients for Pizza!:\")\n",
    "    for j in i:  #iterate the values to remove the bracket,commas and qoute     \n",
    "        print(\"   {}\".format(j))"
   ]
  },
  {
   "cell_type": "markdown",
   "id": "a874a518",
   "metadata": {},
   "source": [
    "### Tuesday: Working with Dictionaries"
   ]
  },
  {
   "cell_type": "code",
   "execution_count": 2,
   "id": "280b0fc3",
   "metadata": {},
   "outputs": [
    {
     "name": "stdout",
     "output_type": "stream",
     "text": [
      "Year: 2018 \t Color: Blue\n"
     ]
    }
   ],
   "source": [
    "# adding new key/value pairs to a dictionary\n",
    "car = { \"year\": 2018 }\n",
    "car[\"color\"] = \"Blue\"\n",
    "print( \"Year: {} \\t Color: {}\".format( car[\"year\"], car[\"color\"] ) )"
   ]
  },
  {
   "cell_type": "code",
   "execution_count": 3,
   "id": "4f5cb046",
   "metadata": {},
   "outputs": [
    {
     "name": "stdout",
     "output_type": "stream",
     "text": [
      "Year: 2018 \t Color: Red\n"
     ]
    }
   ],
   "source": [
    "# updating a value for a key/value pair that already exists\n",
    "car = { \"year\": 2018, \"color\": \"Blue\" }\n",
    "car[\"color\"] = \"Red\"\n",
    "print( \"Year: {} \\t Color: {}\".format( car[\"year\"], car[\"color\"] ) )"
   ]
  },
  {
   "cell_type": "code",
   "execution_count": 4,
   "id": "21c89ac5",
   "metadata": {},
   "outputs": [
    {
     "name": "stdout",
     "output_type": "stream",
     "text": [
      "{}\n"
     ]
    }
   ],
   "source": [
    "# deleting a key/value pair from a dictionary\n",
    "car = { \"year\": 2018 }\n",
    "try:\n",
    "    del car[\"year\"]\n",
    "    print(car)\n",
    "except:\n",
    "    print(\"That key does not exist\")"
   ]
  },
  {
   "cell_type": "code",
   "execution_count": 5,
   "id": "47ea0d76",
   "metadata": {},
   "outputs": [
    {
     "name": "stdout",
     "output_type": "stream",
     "text": [
      "name\n",
      "John\n",
      "age\n",
      "26\n"
     ]
    }
   ],
   "source": [
    "# looping over a dictionary via the keys\n",
    "person = { \"name\": \"John\", \"age\": 26 }\n",
    "for key in person.keys( ):\n",
    "    print(key)\n",
    "    print( person[key] ) # will output the value at the current key"
   ]
  },
  {
   "cell_type": "code",
   "execution_count": 6,
   "id": "bf61affb",
   "metadata": {},
   "outputs": [
    {
     "name": "stdout",
     "output_type": "stream",
     "text": [
      "John\n",
      "26\n"
     ]
    }
   ],
   "source": [
    "# looping over a dictionary via the values\n",
    "person = { \"name\": \"John\", \"age\": 26 }\n",
    "for value in person.values( ):\n",
    "    print(value)"
   ]
  },
  {
   "cell_type": "code",
   "execution_count": 7,
   "id": "9ed39b80",
   "metadata": {},
   "outputs": [
    {
     "name": "stdout",
     "output_type": "stream",
     "text": [
      "name: John\n",
      "age: 26\n"
     ]
    }
   ],
   "source": [
    "# looping over a dictionary via the key/value pair\n",
    "person = { \"name\": \"John\", \"age\": 26 }\n",
    "for key, value in person.items( ):\n",
    "    print( \"{}: {}\".format(key, value) )"
   ]
  },
  {
   "cell_type": "markdown",
   "id": "a628b69b",
   "metadata": {},
   "source": [
    "TUESDAY EXERCISES"
   ]
  },
  {
   "cell_type": "markdown",
   "id": "d294da70",
   "metadata": {},
   "source": [
    "1. User Input: Declare an empty dictionary. Ask the user for their name, address,\n",
    "and number. Add that information to the dictionary and iterate over it to show\n",
    "the user."
   ]
  },
  {
   "cell_type": "code",
   "execution_count": 8,
   "id": "08d18cb1",
   "metadata": {},
   "outputs": [
    {
     "name": "stdout",
     "output_type": "stream",
     "text": [
      "Please fill up the information needed:\n",
      "Name: Don\n",
      "Address: ph\n",
      "Number: 093\n",
      "Here is the information that you fill in: \n",
      "Name: Don\n",
      "Address: ph\n",
      "Number: 93\n",
      "Would you like to repeat? y/n n\n",
      "Thank you for using this program!\n"
     ]
    }
   ],
   "source": [
    "status = True\n",
    "while status:  \n",
    "\n",
    "    print(\"Please fill up the information needed:\")\n",
    "\n",
    "    # creating empty dictionary\n",
    "    userInfo = {}\n",
    "\n",
    "    # getting the information\n",
    "    name = str(input(\"Name: \"))\n",
    "    address = str(input(\"Address: \"))\n",
    "    number = int(input(\"Number: \"))\n",
    "\n",
    "    # add info to dictionary\n",
    "    userInfo[\"Name\"] = name\n",
    "    userInfo[\"Address\"] = address\n",
    "    userInfo[\"Number\"] = number\n",
    "\n",
    "\n",
    "    # iterate to show to user the informations\n",
    "    print(\"Here is the information that you fill in: \")\n",
    "    for key, value in userInfo.items():\n",
    "        \n",
    "        print(\"{}: {}\".format(key, value))\n",
    "    \n",
    "    # creating a while loop\n",
    "    askUser = str(input(\"Would you like to repeat? y/n \").lower())\n",
    "    \n",
    "    if askUser == \"yes\" or askUser == \"y\":\n",
    "        continue\n",
    "    else:\n",
    "        print(\"Thank you for using this program!\")\n",
    "        break"
   ]
  },
  {
   "cell_type": "markdown",
   "id": "33b6329a",
   "metadata": {},
   "source": [
    "Problem-Solving: What is wrong with the following code:\n",
    " person = { 'name', 'John Smith' }\n",
    " print(person['name'])"
   ]
  },
  {
   "cell_type": "code",
   "execution_count": 9,
   "id": "59d26f30",
   "metadata": {},
   "outputs": [
    {
     "ename": "TypeError",
     "evalue": "'set' object is not subscriptable",
     "output_type": "error",
     "traceback": [
      "\u001b[1;31m---------------------------------------------------------------------------\u001b[0m",
      "\u001b[1;31mTypeError\u001b[0m                                 Traceback (most recent call last)",
      "\u001b[1;32m~\\AppData\\Local\\Temp\\ipykernel_16852\\2376204649.py\u001b[0m in \u001b[0;36m<module>\u001b[1;34m\u001b[0m\n\u001b[0;32m      1\u001b[0m \u001b[0mperson\u001b[0m \u001b[1;33m=\u001b[0m \u001b[1;33m{\u001b[0m \u001b[1;34m'name'\u001b[0m\u001b[1;33m,\u001b[0m \u001b[1;34m'John Smith'\u001b[0m \u001b[1;33m}\u001b[0m\u001b[1;33m\u001b[0m\u001b[1;33m\u001b[0m\u001b[0m\n\u001b[1;32m----> 2\u001b[1;33m \u001b[0mprint\u001b[0m\u001b[1;33m(\u001b[0m\u001b[0mperson\u001b[0m\u001b[1;33m[\u001b[0m\u001b[1;34m'name'\u001b[0m\u001b[1;33m]\u001b[0m\u001b[1;33m)\u001b[0m\u001b[1;33m\u001b[0m\u001b[1;33m\u001b[0m\u001b[0m\n\u001b[0m",
      "\u001b[1;31mTypeError\u001b[0m: 'set' object is not subscriptable"
     ]
    }
   ],
   "source": [
    "person = { 'name', 'John Smith' }\n",
    "print(person['name'])"
   ]
  },
  {
   "cell_type": "markdown",
   "id": "596da33d",
   "metadata": {},
   "source": [
    "Doesnt have value on corresponding keys"
   ]
  },
  {
   "cell_type": "markdown",
   "id": "a5c28955",
   "metadata": {},
   "source": [
    "### Wednesday: Tuples, Sets, Frozensets"
   ]
  },
  {
   "cell_type": "code",
   "execution_count": 10,
   "id": "443578e2",
   "metadata": {},
   "outputs": [
    {
     "name": "stdout",
     "output_type": "stream",
     "text": [
      "<class 'tuple'> <class 'tuple'>\n"
     ]
    },
    {
     "ename": "TypeError",
     "evalue": "'tuple' object does not support item assignment",
     "output_type": "error",
     "traceback": [
      "\u001b[1;31m---------------------------------------------------------------------------\u001b[0m",
      "\u001b[1;31mTypeError\u001b[0m                                 Traceback (most recent call last)",
      "\u001b[1;32m~\\AppData\\Local\\Temp\\ipykernel_16852\\3289793506.py\u001b[0m in \u001b[0;36m<module>\u001b[1;34m\u001b[0m\n\u001b[0;32m      3\u001b[0m \u001b[0mt2\u001b[0m \u001b[1;33m=\u001b[0m \u001b[1;32mTrue\u001b[0m\u001b[1;33m,\u001b[0m \u001b[1;36m1\u001b[0m \u001b[1;31m# without parens\u001b[0m\u001b[1;33m\u001b[0m\u001b[1;33m\u001b[0m\u001b[0m\n\u001b[0;32m      4\u001b[0m \u001b[0mprint\u001b[0m\u001b[1;33m(\u001b[0m \u001b[0mtype\u001b[0m\u001b[1;33m(\u001b[0m\u001b[0mt1\u001b[0m\u001b[1;33m)\u001b[0m\u001b[1;33m,\u001b[0m \u001b[0mtype\u001b[0m\u001b[1;33m(\u001b[0m\u001b[0mt2\u001b[0m\u001b[1;33m)\u001b[0m \u001b[1;33m)\u001b[0m \u001b[1;31m# both are tuples\u001b[0m\u001b[1;33m\u001b[0m\u001b[1;33m\u001b[0m\u001b[0m\n\u001b[1;32m----> 5\u001b[1;33m \u001b[0mt1\u001b[0m\u001b[1;33m[\u001b[0m\u001b[1;36m0\u001b[0m\u001b[1;33m]\u001b[0m \u001b[1;33m=\u001b[0m \u001b[1;36m1\u001b[0m \u001b[1;31m# will crash, tuples are immutable once declared\u001b[0m\u001b[1;33m\u001b[0m\u001b[1;33m\u001b[0m\u001b[0m\n\u001b[0m",
      "\u001b[1;31mTypeError\u001b[0m: 'tuple' object does not support item assignment"
     ]
    }
   ],
   "source": [
    "# declaring a tuple\n",
    "t1 = (\"hello\", 2, \"hello\") # with parens\n",
    "t2 = True, 1 # without parens\n",
    "print( type(t1), type(t2) ) # both are tuples\n",
    "t1[0] = 1 # will crash, tuples are immutable once declared"
   ]
  },
  {
   "cell_type": "code",
   "execution_count": 11,
   "id": "36828652",
   "metadata": {},
   "outputs": [
    {
     "name": "stdout",
     "output_type": "stream",
     "text": [
      "<class 'set'> <class 'set'>\n",
      "{2, 3, 5}\n"
     ]
    }
   ],
   "source": [
    "# declaring a set\n",
    "s1 = set( [1, 2, 3, 1] ) # uses the set keyword and square brackets\n",
    "s2 = {4, 4, 5} # uses curly brackets, like dictionary\n",
    "print( type(s1), type(s2) )\n",
    "s1.add(5) # using the add method to add new items to a set\n",
    "s1.remove(1) # using the remove method to get rid of the value 1\n",
    "print(s1) # notice when printed it removed the second \"1\" at the end"
   ]
  },
  {
   "cell_type": "code",
   "execution_count": 15,
   "id": "893dc9c5",
   "metadata": {},
   "outputs": [
    {
     "ename": "SyntaxError",
     "evalue": "invalid syntax (2240824516.py, line 4)",
     "output_type": "error",
     "traceback": [
      "\u001b[1;36m  File \u001b[1;32m\"C:\\Users\\a_don\\AppData\\Local\\Temp\\ipykernel_16852\\2240824516.py\"\u001b[1;36m, line \u001b[1;32m4\u001b[0m\n\u001b[1;33m    print(fset)\u001b[0m\n\u001b[1;37m    ^\u001b[0m\n\u001b[1;31mSyntaxError\u001b[0m\u001b[1;31m:\u001b[0m invalid syntax\n"
     ]
    }
   ],
   "source": [
    "# declaring a frozenset\n",
    "fset = frozenset( [1, 2, 3, 4] )\n",
    "print( type(fset) \n",
    "print(fset)"
   ]
  },
  {
   "attachments": {
    "image.png": {
     "image/png": "[encoded data removed]"
    }
   },
   "cell_type": "markdown",
   "id": "f7a72c5b",
   "metadata": {},
   "source": [
    "![image.png](attachment:image.png)"
   ]
  },
  {
   "cell_type": "markdown",
   "id": "13ad0ec0",
   "metadata": {},
   "source": [
    "WEDNESDAY EXERCISES"
   ]
  },
  {
   "cell_type": "markdown",
   "id": "17ea6647",
   "metadata": {},
   "source": [
    "1. User Input: Ask the user to input as many bank account numbers as they’d\n",
    "like, and store them within a list initially. Once the user is done entering\n",
    "information, convert the list to a frozenset and print it out."
   ]
  },
  {
   "cell_type": "code",
   "execution_count": 16,
   "id": "1a0b31d8",
   "metadata": {},
   "outputs": [
    {
     "name": "stdout",
     "output_type": "stream",
     "text": [
      "Enter an account number or quit: 6548548\n",
      "Enter an account number or quit: 15254\n",
      "Enter an account number or quit: 564\n",
      "Enter an account number or quit: quit\n",
      "Account Number: 564\n",
      "Account Number: 15254\n",
      "Account Number: 6548548\n"
     ]
    }
   ],
   "source": [
    "accounts = []\n",
    "done = False\n",
    "\n",
    "while not done:\n",
    "    ans = input('Enter an account number or quit: ').lower()\n",
    "    \n",
    "    if ans == 'quit':\n",
    "        done = True\n",
    "        \n",
    "        accounts = frozenset(accounts)\n",
    "        for acc in accounts:\n",
    "            print(\"Account Number: {}\".format(acc))\n",
    "            \n",
    "    else:\n",
    "        accounts.append(ans)"
   ]
  },
  {
   "cell_type": "markdown",
   "id": "b078f695",
   "metadata": {},
   "source": [
    "2. Conversion: Convert the following list into a set of unique values. Print it out\n",
    "after to check there are no duplicates:\n",
    "nums = [3, 4, 3, 7, 10]"
   ]
  },
  {
   "cell_type": "markdown",
   "id": "cd9a278a",
   "metadata": {},
   "source": [
    "nums = [3, 4, 3, 7, 10]\n",
    "num2 = set(nums)\n",
    "print(num2)"
   ]
  },
  {
   "cell_type": "markdown",
   "id": "1b69a22e",
   "metadata": {},
   "source": [
    "### Thursday: Reading and Writing Files"
   ]
  },
  {
   "cell_type": "code",
   "execution_count": 18,
   "id": "85c6dfec",
   "metadata": {
    "scrolled": true
   },
   "outputs": [
    {
     "name": "stdout",
     "output_type": "stream",
     "text": [
      "this is a test\n"
     ]
    }
   ],
   "source": [
    "# opening/creating and writing to a text file\n",
    "f = open(\"test.txt\", \"w+\") # open file in writing and reading mode\n",
    "f.write(\"this is a test\")\n",
    "f.close( )\n",
    "# reading from a text file\n",
    "f = open(\"test.txt\", \"r\")\n",
    "data = f.read( )\n",
    "f.close( )\n",
    "print(data)"
   ]
  },
  {
   "cell_type": "markdown",
   "id": "37e33b59",
   "metadata": {},
   "source": [
    "Opening files using the “with” keyword. This\n",
    "concept works like a while loop, so that while the file is open, we can work with it"
   ]
  },
  {
   "cell_type": "code",
   "execution_count": 20,
   "id": "f15a53de",
   "metadata": {},
   "outputs": [],
   "source": [
    "# Writing to CSV Files\n",
    "# opening/creating and writing to a csv file\n",
    "import csv\n",
    "with open(\"test.csv\", mode=\"w\", newline=\"\") as f:\n",
    "    writer = csv.writer(f, delimiter=\",\")\n",
    "    writer.writerow( [\"Name\", \"City\"] )\n",
    "    writer.writerow( [\"Craig Lou\", \"Taiwan\"] )"
   ]
  },
  {
   "cell_type": "code",
   "execution_count": 21,
   "id": "1c0f7ad6",
   "metadata": {},
   "outputs": [
    {
     "name": "stdout",
     "output_type": "stream",
     "text": [
      "['Name', 'City']\n",
      "['Craig Lou', 'Taiwan']\n"
     ]
    }
   ],
   "source": [
    "# Reading from CSV Files\n",
    "with open(\"test.csv\", mode=\"r\") as f:\n",
    "    reader = csv.reader(f, delimiter=\",\")\n",
    "    for row in reader:\n",
    "        print(row)"
   ]
  },
  {
   "cell_type": "markdown",
   "id": "588f35ab",
   "metadata": {},
   "source": [
    "THURSDAY EXERCISES"
   ]
  },
  {
   "cell_type": "markdown",
   "id": "12645748",
   "metadata": {},
   "source": [
    "1. User Input: Ask a user for their favorite number, and save it to a text file."
   ]
  },
  {
   "cell_type": "code",
   "execution_count": 31,
   "id": "e926114d",
   "metadata": {
    "scrolled": true
   },
   "outputs": [
    {
     "name": "stdout",
     "output_type": "stream",
     "text": [
      "What is your name: Don\n",
      "What is your favorite number: 09\n"
     ]
    }
   ],
   "source": [
    "\n",
    "# opening/creating and writing to a csv file\n",
    "\n",
    "name = input(\"What is your name: \")\n",
    "number = input(\"What is your favorite number: \")\n",
    "\n",
    "f = open(\"wow.txt\", \"w+\")\n",
    "\n",
    "f.write(\"Your name is {}. Favorite number is {}. \".format(name,number))\n",
    "\n",
    "f.close()\n"
   ]
  },
  {
   "cell_type": "markdown",
   "id": "4f971f38",
   "metadata": {},
   "source": [
    "2. Data Dumping: Using the dictionary of following data, save the\n",
    "information to a csv file with"
   ]
  },
  {
   "cell_type": "markdown",
   "id": "2123f1b9",
   "metadata": {},
   "source": [
    "data = {\n",
    "'name' : ['Dave', 'Dennis', 'Peter', 'Jess'],\n",
    "'language': ['Python', 'C', 'Java', 'Python']\n",
    "}"
   ]
  },
  {
   "cell_type": "code",
   "execution_count": 32,
   "id": "af21e484",
   "metadata": {
    "scrolled": true
   },
   "outputs": [
    {
     "name": "stdout",
     "output_type": "stream",
     "text": [
      "['name', 'language']\n",
      "['Dave', 'Python']\n",
      "['Dennis', 'C']\n",
      "['Peter', 'Java']\n",
      "['Jess', 'Python']\n"
     ]
    }
   ],
   "source": [
    "\n",
    "data = {\n",
    "    'name' : ['Dave', 'Dennis', 'Peter', \"Jess\"],\n",
    "    'language' : ['Python', 'C', 'Java', 'Python']\n",
    "}\n",
    "\n",
    "import csv\n",
    "\n",
    "with open('data.csv', mode='w', newline='') as f:\n",
    "    writer = csv.writer(f, delimiter=',')\n",
    "    writer.writerow(data.keys())\n",
    "    \n",
    "    for i in range(len(data['name'])):\n",
    "        writer.writerow([data['name'][i], data['language'][i]])\n",
    "\n",
    "# Reading from CSV Files\n",
    "with open(\"data.csv\", mode=\"r\") as f:\n",
    "    reader = csv.reader(f, delimiter=\",\")\n",
    "    for row in reader:\n",
    "        print(row)"
   ]
  },
  {
   "cell_type": "markdown",
   "id": "cc57d26b",
   "metadata": {},
   "source": [
    "Weekly Challenges"
   ]
  },
  {
   "cell_type": "markdown",
   "id": "16874a57",
   "metadata": {},
   "source": [
    "1. Changing Passwords: Add a function called “changePassword”\n",
    "to the project from Friday that will allow users to change their\n",
    "password when logged in."
   ]
  },
  {
   "cell_type": "code",
   "execution_count": null,
   "id": "b1bbef4c",
   "metadata": {},
   "outputs": [
    {
     "name": "stdout",
     "output_type": "stream",
     "text": [
      "You are now logged out.\n",
      "1. Login\n",
      "2. Register\n",
      "3. Quit\n"
     ]
    }
   ],
   "source": [
    "\n",
    "# import all necessary packages to be used\n",
    "import csv\n",
    "from IPython.display import clear_output\n",
    "\n",
    "# handle user changing password\n",
    "def changePassword():\n",
    "    ''' \n",
    "        This function must confirm email and pass, then read data and save to local list\n",
    "        because you cannot change a single value, you must save all data, then overwrite\n",
    "        the entire file all together.\n",
    "    '''\n",
    "    \n",
    "    email = input('Please confirm your e-mail: ')\n",
    "    password = input('Please confirm your current password: ')\n",
    "    \n",
    "    emails = []\n",
    "    passwords = []\n",
    "    found = False\n",
    "\n",
    "    with open('users.csv', mode='r') as f:\n",
    "        reader = csv.reader(f, delimiter=',')\n",
    "        \n",
    "        for row in reader:\n",
    "            if row == [email, password]:\n",
    "                found = True\n",
    "            elif row:\n",
    "                emails.append(row[0])\n",
    "                passwords.append(row[1])\n",
    "    \n",
    "    if found:\n",
    "        new_pass = input('What would you like to change your password to? ')\n",
    "        \n",
    "        emails.append(email)\n",
    "        passwords.append(new_pass)\n",
    "        \n",
    "        with open('users.csv', mode='w') as f:\n",
    "            writer = csv.writer(f, delimiter=',')\n",
    "            \n",
    "            for i in range(len(emails)):\n",
    "                writer.writerow([emails[i], passwords[i]])\n",
    "    else:\n",
    "        print('Sorry those credentials were incorrect.')\n",
    "\n",
    "# handle user registration and writing to csv\n",
    "def registerUser():\n",
    "    with open('users.csv', mode='a', newline='') as f:\n",
    "        writer = csv.writer(f, delimiter=',')\n",
    "        \n",
    "        print('To register, please enter your info:')\n",
    "        email = input('E-mail: ')\n",
    "        password = input('Password: ')\n",
    "        password2 = input('Re-type password: ')\n",
    "\n",
    "        clear_output()\n",
    "        \n",
    "        if password == password2:\n",
    "            writer.writerow([email, password])\n",
    "            print('You are now registered!')\n",
    "        else:\n",
    "            print('Something went wrong. Try again.')\n",
    "            \n",
    "# ask for user info and return true to login\n",
    "def loginUser():\n",
    "    print('To login, please enter your info:')\n",
    "    email = input('E-mail: ')\n",
    "    password = input('Password: ')\n",
    "    \n",
    "    clear_output()\n",
    "    \n",
    "    with open('users.csv', mode='r') as f:\n",
    "        reader = csv.reader(f, delimiter=',')\n",
    "        \n",
    "        for row in reader:\n",
    "            if row == [email, password]:\n",
    "                print('You are now logged in!')\n",
    "                return True\n",
    "    \n",
    "    print('Something went wrong, try again.')\n",
    "    return False\n",
    "            \n",
    "# variables for main loop\n",
    "active = True\n",
    "logged_in = False\n",
    "\n",
    "# main loop\n",
    "while active:\n",
    "    if logged_in:\n",
    "        print('1. Logout\\n2. Change Password\\n3. Quit')\n",
    "    else:\n",
    "        print('1. Login\\n2. Register\\n3. Quit')\n",
    "    \n",
    "    choice = input('What would you like to do? ').lower()\n",
    "    \n",
    "    clear_output()\n",
    "    \n",
    "    if choice == 'register' and logged_in == False:\n",
    "        registerUser()\n",
    "    elif choice == 'login' and logged_in == False:\n",
    "        logged_in = loginUser()\n",
    "    elif choice == 'quit':\n",
    "        active = False\n",
    "        print('Thanks for using our software!')\n",
    "    elif choice == 'logout' and logged_in == True:\n",
    "        logged_in = False\n",
    "        print('You are now logged out.')\n",
    "    elif choice == 'change password' and logged_in == True:\n",
    "        changePassword()\n",
    "    else:\n",
    "        print('Sorry, please try again!')"
   ]
  },
  {
   "cell_type": "markdown",
   "id": "2c63e236",
   "metadata": {},
   "source": [
    "2. Favorite Food: Write a new program that will ask users what their\n",
    "favorite food is. Save the answers to a CSV file called “favorite_\n",
    "food.csv”. After answering, display a table of tallied results.\n",
    "Example of table:"
   ]
  },
  {
   "cell_type": "code",
   "execution_count": 1,
   "id": "f2fc17ff",
   "metadata": {
    "scrolled": true
   },
   "outputs": [
    {
     "name": "stdout",
     "output_type": "stream",
     "text": [
      "Here are the results so far...\n",
      "adobo: 2\n",
      "sinigang: 1\n"
     ]
    }
   ],
   "source": [
    "import csv\n",
    "from IPython.display import clear_output\n",
    "\n",
    "\n",
    "def saveFood():\n",
    "    ans = input('What is your favorite food? ')\n",
    "    \n",
    "    with open('favorite_food.csv', mode='a', newline='') as f:\n",
    "        writer = csv.writer(f, delimiter=',')\n",
    "        \n",
    "        writer.writerow([ans])\n",
    "    \n",
    "    print('Food added!')\n",
    "    \n",
    "def countFood():\n",
    "    food_count = {}\n",
    "    \n",
    "    with open('favorite_food.csv', mode='r') as f:\n",
    "        reader = csv.reader(f, delimiter=',')\n",
    "        \n",
    "        for row in reader:\n",
    "            if row[0].lower() in food_count:\n",
    "                food_count[row[0].lower()] += 1\n",
    "            else:\n",
    "                food_count[row[0].lower()] = 1\n",
    "                \n",
    "    return food_count\n",
    "\n",
    "def main():\n",
    "    while input('Would you like to add more? ').lower() != 'no':\n",
    "        saveFood()\n",
    "        \n",
    "    clear_output()\n",
    "    \n",
    "    print('Here are the results so far...')\n",
    "    \n",
    "    food_count = countFood()\n",
    "    \n",
    "    for k, v in food_count.items():\n",
    "        print(\"{}: {}\".format(k, v))\n",
    "        \n",
    "main()\n"
   ]
  }
 ],
 "metadata": {
  "kernelspec": {
   "display_name": "Python 3 (ipykernel)",
   "language": "python",
   "name": "python3"
  },
  "language_info": {
   "codemirror_mode": {
    "name": "ipython",
    "version": 3
   },
   "file_extension": ".py",
   "mimetype": "text/x-python",
   "name": "python",
   "nbconvert_exporter": "python",
   "pygments_lexer": "ipython3",
   "version": "3.9.13"
  }
 },
 "nbformat": 4,
 "nbformat_minor": 5
}
