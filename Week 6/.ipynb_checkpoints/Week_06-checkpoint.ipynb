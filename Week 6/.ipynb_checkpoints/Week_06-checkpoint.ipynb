{
 "cells": [
  {
   "cell_type": "markdown",
   "id": "6d4706c1",
   "metadata": {},
   "source": [
    "# Week 6: Data Collections and Files"
   ]
  },
  {
   "cell_type": "markdown",
   "id": "715e2183",
   "metadata": {},
   "source": [
    "### Monday: Dictionaries"
   ]
  },
  {
   "cell_type": "code",
   "execution_count": 2,
   "id": "b065f496",
   "metadata": {},
   "outputs": [
    {
     "name": "stdout",
     "output_type": "stream",
     "text": [
      "{'name': 'Morty', 'age': 26}\n"
     ]
    }
   ],
   "source": [
    "# declaring a dictionary variable\n",
    "empty = { } # empty dictionary\n",
    "person = { \"name\": \"John Smith\" }\n",
    "# dictionary with one key/value pair\n",
    "customer = {\n",
    "    \"name\": \"Morty\",\n",
    "    \"age\": 26\n",
    "} # dictionary with two key/value pairs\n",
    "print(customer)"
   ]
  },
  {
   "cell_type": "code",
   "execution_count": 4,
   "id": "db729413",
   "metadata": {},
   "outputs": [
    {
     "name": "stdout",
     "output_type": "stream",
     "text": [
      "John\n"
     ]
    }
   ],
   "source": [
    "# accessing dictionary information through keys\n",
    "person = { \"name\": \"John\" }\n",
    "print( person[ \"name\" ] ) # access information through the key"
   ]
  },
  {
   "cell_type": "code",
   "execution_count": 6,
   "id": "a0072983",
   "metadata": {},
   "outputs": [
    {
     "name": "stdout",
     "output_type": "stream",
     "text": [
      "John\n",
      "Age is not available.\n"
     ]
    }
   ],
   "source": [
    "# using the get method to access dictionary information\n",
    "person = { \"name\": \"John\" }\n",
    "print( person.get(\"name\") ) # retrieves value of name key as before\n",
    "print( person.get(\"age\", \"Age is not available.\") ) # get is a secureway to retrieve information"
   ]
  },
  {
   "cell_type": "code",
   "execution_count": 7,
   "id": "4793eb58",
   "metadata": {},
   "outputs": [
    {
     "name": "stdout",
     "output_type": "stream",
     "text": [
      "baseball\n"
     ]
    }
   ],
   "source": [
    "# storing a list within a dictionary and accessing it\n",
    "data = { \"sports\": [ \"baseball\", \"football\", \"hockey\", \"soccer\" ] }\n",
    "print( data[\"sports\"][0] ) # first access the key, then the index"
   ]
  },
  {
   "cell_type": "code",
   "execution_count": 10,
   "id": "923a9275",
   "metadata": {},
   "outputs": [
    {
     "ename": "ValueError",
     "evalue": "dictionary update sequence element #0 has length 8; 2 is required",
     "output_type": "error",
     "traceback": [
      "\u001b[1;31m---------------------------------------------------------------------------\u001b[0m",
      "\u001b[1;31mValueError\u001b[0m                                Traceback (most recent call last)",
      "\u001b[1;32m~\\AppData\\Local\\Temp\\ipykernel_23088\\2448012664.py\u001b[0m in \u001b[0;36m<module>\u001b[1;34m\u001b[0m\n\u001b[0;32m      1\u001b[0m \u001b[1;31m# improperly storing a list within a dictionary\u001b[0m\u001b[1;33m\u001b[0m\u001b[1;33m\u001b[0m\u001b[0m\n\u001b[0;32m      2\u001b[0m \u001b[0msports\u001b[0m \u001b[1;33m=\u001b[0m \u001b[1;33m[\u001b[0m \u001b[1;34m\"baseball\"\u001b[0m\u001b[1;33m,\u001b[0m \u001b[1;34m\"football\"\u001b[0m\u001b[1;33m,\u001b[0m \u001b[1;34m\"hockey\"\u001b[0m\u001b[1;33m,\u001b[0m \u001b[1;34m\"soccer\"\u001b[0m \u001b[1;33m]\u001b[0m\u001b[1;33m\u001b[0m\u001b[1;33m\u001b[0m\u001b[0m\n\u001b[1;32m----> 3\u001b[1;33m \u001b[0msports_dict\u001b[0m \u001b[1;33m=\u001b[0m \u001b[0mdict\u001b[0m\u001b[1;33m(\u001b[0m \u001b[0msports\u001b[0m \u001b[1;33m)\u001b[0m \u001b[1;31m# will produce error, no key\u001b[0m\u001b[1;33m\u001b[0m\u001b[1;33m\u001b[0m\u001b[0m\n\u001b[0m",
      "\u001b[1;31mValueError\u001b[0m: dictionary update sequence element #0 has length 8; 2 is required"
     ]
    }
   ],
   "source": [
    "# improperly storing a list within a dictionary\n",
    "sports = [ \"baseball\", \"football\", \"hockey\", \"soccer\" ]\n",
    "sports_dict = dict( sports ) # will produce error, no key"
   ]
  },
  {
   "cell_type": "code",
   "execution_count": 15,
   "id": "889d8676",
   "metadata": {},
   "outputs": [
    {
     "name": "stdout",
     "output_type": "stream",
     "text": [
      "{'sports': ['baseball', 'football', 'hockey', 'soccer']}\n"
     ]
    }
   ],
   "source": [
    "# improperly storing a list within a dictionary\n",
    "sports = [ \"baseball\", \"football\", \"hockey\", \"soccer\" ]\n",
    "sports_dict = dict( { \"sports\" : sports } ) # will produce error, no key\n",
    "print(sports_dict)"
   ]
  },
  {
   "cell_type": "code",
   "execution_count": 13,
   "id": "d2966e19",
   "metadata": {},
   "outputs": [
    {
     "name": "stdout",
     "output_type": "stream",
     "text": [
      "{'name': 'Kirsten'}\n",
      "Kirsten\n"
     ]
    }
   ],
   "source": [
    "# storing a dictionary within a list and accessing it\n",
    "data = [ \"John\", \"Dennis\", { \"name\": \"Kirsten\" } ]\n",
    "print( data[2] ) # the dictionary is in index 2\n",
    "print( data[2][\"name\"] ) # first access the index, then access the key"
   ]
  },
  {
   "cell_type": "code",
   "execution_count": 14,
   "id": "fc21894f",
   "metadata": {},
   "outputs": [
    {
     "name": "stdout",
     "output_type": "stream",
     "text": [
      "{'2018': 108, '2017': 93}\n",
      "108\n"
     ]
    }
   ],
   "source": [
    "# storing a dictionary within a dictionary and accessing it\n",
    "data = {\n",
    "    \"team\": \"Boston Red Sox\",\n",
    "    \"wins\": { \"2018\": 108, \"2017\": 93 }\n",
    "}\n",
    "print( data[\"wins\"] ) # will output the dictionary within the wins key\n",
    "print( data[\"wins\"][\"2018\"] ) # first access the wins key, then the next key"
   ]
  },
  {
   "cell_type": "markdown",
   "id": "aacaa554",
   "metadata": {},
   "source": [
    "MONDAY EXERCISES"
   ]
  },
  {
   "cell_type": "markdown",
   "id": "20646dce",
   "metadata": {},
   "source": [
    "1. User Input: Ask the user for their name and age, and then create a dictionary\n",
    "with those key-value pairs. Output the dictionary once created."
   ]
  },
  {
   "cell_type": "code",
   "execution_count": 17,
   "id": "94e29017",
   "metadata": {},
   "outputs": [
    {
     "name": "stdout",
     "output_type": "stream",
     "text": [
      "name: Don\n",
      "age: 25\n",
      "Try again: y/n y\n",
      "name: Jozy\n",
      "age: 25\n",
      "Try again: y/n n\n",
      "This is your information in dictionary form: {'Jozy': 25}\n",
      "Thank you for using this program \n",
      "Exit\n"
     ]
    }
   ],
   "source": [
    "stat = True\n",
    "while stat:\n",
    "\n",
    "        name = str(input(\"name: \"))\n",
    "        age = int(input(\"age: \"))\n",
    "\n",
    "        q = str(input(\"Try again: y/n \").lower())\n",
    "        if q == \"y\":\n",
    "            continue\n",
    "        elif q == \"n\":\n",
    "            h = {name : age}\n",
    "            print(\"This is your information in dictionary form: {}\".format(h))\n",
    "            print(\"Thank you for using this program \\nExit\")\n",
    "            stat = False\n",
    "        else:\n",
    "            print(\"invalid Key \\nExit\")\n",
    "            stat = False\n"
   ]
  },
  {
   "cell_type": "markdown",
   "id": "2c93d73b",
   "metadata": {},
   "source": [
    "2. Accessing Ingredients: Output all the ingredients from the following list within\n",
    "the “ingredients” key using a for loop:"
   ]
  },
  {
   "cell_type": "code",
   "execution_count": 18,
   "id": "4bdc75e3",
   "metadata": {},
   "outputs": [
    {
     "name": "stdout",
     "output_type": "stream",
     "text": [
      "Here is the list of ingredients for Pizza!:\n",
      "   cheese\n",
      "   sausage\n",
      "   peppers\n"
     ]
    }
   ],
   "source": [
    "pizza = {'ingredients': ['cheese', 'sausage', 'peppers']}\n",
    "\n",
    "for i in pizza.values(): # iterate and get access to values\n",
    "    print(\"Here is the list of ingredients for Pizza!:\")\n",
    "    for j in i:  #iterate the values to remove the bracket,commas and qoute     \n",
    "        print(\"   {}\".format(j))"
   ]
  }
 ],
 "metadata": {
  "kernelspec": {
   "display_name": "Python 3 (ipykernel)",
   "language": "python",
   "name": "python3"
  },
  "language_info": {
   "codemirror_mode": {
    "name": "ipython",
    "version": 3
   },
   "file_extension": ".py",
   "mimetype": "text/x-python",
   "name": "python",
   "nbconvert_exporter": "python",
   "pygments_lexer": "ipython3",
   "version": "3.9.13"
  }
 },
 "nbformat": 4,
 "nbformat_minor": 5
}
