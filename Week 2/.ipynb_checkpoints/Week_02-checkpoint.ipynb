{
 "cells": [
  {
   "cell_type": "markdown",
   "id": "5c740f66",
   "metadata": {},
   "source": [
    "# Python Basics"
   ]
  },
  {
   "cell_type": "markdown",
   "id": "c9e23eae",
   "metadata": {},
   "source": [
    "### Monday"
   ]
  },
  {
   "cell_type": "code",
   "execution_count": 1,
   "id": "afb06f31",
   "metadata": {},
   "outputs": [],
   "source": [
    "# Comments & Basic Data Types"
   ]
  },
  {
   "cell_type": "code",
   "execution_count": 3,
   "id": "7f12ab8e",
   "metadata": {},
   "outputs": [],
   "source": [
    "# this is a comment"
   ]
  },
  {
   "cell_type": "code",
   "execution_count": 4,
   "id": "49131fca",
   "metadata": {},
   "outputs": [
    {
     "name": "stdout",
     "output_type": "stream",
     "text": [
      "Hello\n"
     ]
    }
   ],
   "source": [
    "print(\"Hello\") # this is also a comment"
   ]
  },
  {
   "cell_type": "code",
   "execution_count": 6,
   "id": "43aa35e2",
   "metadata": {},
   "outputs": [
    {
     "name": "stdout",
     "output_type": "stream",
     "text": [
      "Hello\n"
     ]
    }
   ],
   "source": [
    "\" \" \"This is a multi-Line comment\" \" \"\n",
    "print(\"Hello\") # this is also a comment"
   ]
  },
  {
   "cell_type": "code",
   "execution_count": 7,
   "id": "45a4c8e8",
   "metadata": {},
   "outputs": [
    {
     "name": "stdout",
     "output_type": "stream",
     "text": [
      "2\n",
      "10\n"
     ]
    }
   ],
   "source": [
    "# the following are all integers\n",
    "print(2)\n",
    "print(10)"
   ]
  },
  {
   "cell_type": "code",
   "execution_count": 8,
   "id": "8295f929",
   "metadata": {},
   "outputs": [
    {
     "name": "stdout",
     "output_type": "stream",
     "text": [
      "10.953\n",
      "8.0\n"
     ]
    }
   ],
   "source": [
    "# the following are all floats\n",
    "print(10.953)\n",
    "print(8.0) # even this number is a float"
   ]
  },
  {
   "cell_type": "code",
   "execution_count": 9,
   "id": "acb4db88",
   "metadata": {},
   "outputs": [
    {
     "name": "stdout",
     "output_type": "stream",
     "text": [
      "True\n",
      "False\n"
     ]
    }
   ],
   "source": [
    "# the following are booleans\n",
    "print(True)\n",
    "print(False)"
   ]
  },
  {
   "cell_type": "code",
   "execution_count": 10,
   "id": "4c427a93",
   "metadata": {},
   "outputs": [
    {
     "name": "stdout",
     "output_type": "stream",
     "text": [
      " \n",
      "There's a snake in my boot!\n",
      "True\n"
     ]
    }
   ],
   "source": [
    "# the following are strings\n",
    "print(\" \")\n",
    "print(\"There's a snake in my boot!\")\n",
    "print('True')"
   ]
  },
  {
   "cell_type": "markdown",
   "id": "75530879",
   "metadata": {},
   "source": [
    "### Tuesday"
   ]
  },
  {
   "cell_type": "code",
   "execution_count": 11,
   "id": "31a41e4b",
   "metadata": {},
   "outputs": [
    {
     "name": "stdout",
     "output_type": "stream",
     "text": [
      "5 8.4\n"
     ]
    }
   ],
   "source": [
    "num1 = 5 # storing an integer into a variable\n",
    "num2 = 8.4 # storing a float into a variable\n",
    "print(num1, num2) # you can print multiple items using commas"
   ]
  },
  {
   "cell_type": "code",
   "execution_count": 12,
   "id": "1f26b721",
   "metadata": {},
   "outputs": [
    {
     "name": "stdout",
     "output_type": "stream",
     "text": [
      "True\n"
     ]
    }
   ],
   "source": [
    "# storing a boolean into a variable\n",
    "switch = True\n",
    "print(switch)"
   ]
  },
  {
   "cell_type": "code",
   "execution_count": 13,
   "id": "b15ed9d1",
   "metadata": {},
   "outputs": [
    {
     "name": "stdout",
     "output_type": "stream",
     "text": [
      "John Smith 9\n"
     ]
    }
   ],
   "source": [
    "# storing strings into a variable\n",
    "name = 'John Smith'\n",
    "fav_number = '9'\n",
    "print(name, fav_number) # will print 9 next to the name"
   ]
  },
  {
   "cell_type": "code",
   "execution_count": 14,
   "id": "d6887f4f",
   "metadata": {},
   "outputs": [
    {
     "name": "stdout",
     "output_type": "stream",
     "text": [
      "13.4\n"
     ]
    }
   ],
   "source": [
    "# using two variables to create another variable\n",
    "result = num1 + num2\n",
    "print(result)"
   ]
  },
  {
   "cell_type": "code",
   "execution_count": 15,
   "id": "38133538",
   "metadata": {},
   "outputs": [
    {
     "name": "stdout",
     "output_type": "stream",
     "text": [
      "14.4\n",
      "72.0\n"
     ]
    }
   ],
   "source": [
    "# adding, deleting, multiplying, dividing from a variable\n",
    "result += 1 # same as saying result = result + 1\n",
    "print(result)\n",
    "result *= num1 # same as saying result = result * num1\n",
    "print(result)"
   ]
  },
  {
   "cell_type": "code",
   "execution_count": 16,
   "id": "3f412647",
   "metadata": {},
   "outputs": [
    {
     "name": "stdout",
     "output_type": "stream",
     "text": [
      "John\n",
      "Sam\n"
     ]
    }
   ],
   "source": [
    "# defining a variable and overwriting it's value\n",
    "name = 'John'\n",
    "print(name)\n",
    "name = 'Sam'\n",
    "print(name)"
   ]
  },
  {
   "cell_type": "markdown",
   "id": "9dbd84eb",
   "metadata": {},
   "source": [
    "#### Tuesday Exercise"
   ]
  },
  {
   "cell_type": "markdown",
   "id": "7e53345f",
   "metadata": {},
   "source": [
    "1. Variable Output: Store the value 3 in a variable called “x” and the value 10 in\n",
    "a variable called “y”. Save the result of x * y into a separate variable called\n",
    "“result”. Finally, output the information so it shows like the following:"
   ]
  },
  {
   "cell_type": "code",
   "execution_count": 17,
   "id": "4ec4222f",
   "metadata": {},
   "outputs": [
    {
     "name": "stdout",
     "output_type": "stream",
     "text": [
      "30\n"
     ]
    }
   ],
   "source": [
    "x = 3\n",
    "y = 10\n",
    "result = x * y\n",
    "print(result)"
   ]
  },
  {
   "cell_type": "markdown",
   "id": "ec96b00d",
   "metadata": {},
   "source": [
    "2. Area Calculation: Calculate the area of a 245.54” x 13.66” rectangle. Print out\n",
    "the result. HINT: Area is width multiplied by height."
   ]
  },
  {
   "cell_type": "code",
   "execution_count": 19,
   "id": "6557e8d4",
   "metadata": {},
   "outputs": [
    {
     "name": "stdout",
     "output_type": "stream",
     "text": [
      "The Area of the rectangle is 3354.0764\n"
     ]
    }
   ],
   "source": [
    "l = 245.54\n",
    "w = 13.66\n",
    "a = l * w\n",
    "print(\"The Area of the rectangle is {}\".format(float(a)))"
   ]
  },
  {
   "cell_type": "markdown",
   "id": "89276679",
   "metadata": {},
   "source": [
    "### Wednesday"
   ]
  },
  {
   "cell_type": "markdown",
   "id": "7a4cbae2",
   "metadata": {},
   "source": [
    "Working with Strings"
   ]
  },
  {
   "cell_type": "code",
   "execution_count": 20,
   "id": "04a8023b",
   "metadata": {},
   "outputs": [
    {
     "name": "stdout",
     "output_type": "stream",
     "text": [
      "John Smith\n"
     ]
    }
   ],
   "source": [
    "# using the addition operator without variables\n",
    "name = \"John\" + \" \" + \"Smith\"\n",
    "print(name)"
   ]
  },
  {
   "cell_type": "code",
   "execution_count": 21,
   "id": "91c4e3f8",
   "metadata": {},
   "outputs": [
    {
     "name": "stdout",
     "output_type": "stream",
     "text": [
      "John Smith\n"
     ]
    }
   ],
   "source": [
    "# using the addition operator with variables\n",
    "first_name = \"John\"\n",
    "last_name = \"Smith\"\n",
    "full_name = first_name + \" \" + last_name\n",
    "print(full_name)"
   ]
  },
  {
   "cell_type": "code",
   "execution_count": 22,
   "id": "e616c883",
   "metadata": {},
   "outputs": [
    {
     "name": "stdout",
     "output_type": "stream",
     "text": [
      "Hello John\n",
      "Hello John, you are 28 years old!\n"
     ]
    }
   ],
   "source": [
    "# injecting variables using the format method\n",
    "name = \"John\"\n",
    "print( \"Hello {}\".format(name) )\n",
    "print( \"Hello {}, you are {} years old!\".format(name, 28) )"
   ]
  },
  {
   "cell_type": "code",
   "execution_count": 23,
   "id": "1d2c4977",
   "metadata": {},
   "outputs": [
    {
     "name": "stdout",
     "output_type": "stream",
     "text": [
      "Hello John\n"
     ]
    }
   ],
   "source": [
    "# using the new f strings\n",
    "name = \"John\"\n",
    "print( f\"Hello {name}\" )"
   ]
  },
  {
   "cell_type": "code",
   "execution_count": 24,
   "id": "77f58b8b",
   "metadata": {},
   "outputs": [
    {
     "name": "stdout",
     "output_type": "stream",
     "text": [
      "H\n",
      "e\n",
      "o\n"
     ]
    }
   ],
   "source": [
    "# using indexes to print each element\n",
    "word = \"Hello\"\n",
    "print( word[ 0 ] ) # will output 'H'\n",
    "print( word[ 1 ] ) # will output 'e'\n",
    "print( word[ -1 ] ) # will output 'o'"
   ]
  },
  {
   "cell_type": "code",
   "execution_count": 25,
   "id": "f1ecc151",
   "metadata": {},
   "outputs": [
    {
     "name": "stdout",
     "output_type": "stream",
     "text": [
      "He\n"
     ]
    }
   ],
   "source": [
    "print( word[ 0 : 2 ] ) # will output 'He'"
   ]
  },
  {
   "cell_type": "markdown",
   "id": "de012796",
   "metadata": {},
   "source": [
    "WEDNESDAY EXERCISES"
   ]
  },
  {
   "cell_type": "markdown",
   "id": "fc6e3531",
   "metadata": {},
   "source": [
    "1. Variable Injection: Create a print statement that injects an integer,\n",
    "float, boolean, and string all into one line. The output should look like\n",
    "“23 4.5 False John”."
   ]
  },
  {
   "cell_type": "code",
   "execution_count": 27,
   "id": "628bb95d",
   "metadata": {},
   "outputs": [
    {
     "name": "stdout",
     "output_type": "stream",
     "text": [
      "23 4.5 False John\n"
     ]
    }
   ],
   "source": [
    "a = int(23)\n",
    "b = float(4.5)\n",
    "c = bool(False)\n",
    "d = str(\"John\")\n",
    "\n",
    "print(\"{} {} {} {}\".format(a,b,c,d))"
   ]
  },
  {
   "cell_type": "markdown",
   "id": "95e7c505",
   "metadata": {},
   "source": [
    "2. Fill in the Blanks: Using the format method, fill in the following\n",
    "blanks by assigning your name and favorite activities into variables:\n",
    "\"{ }'s favorite sports is { }.\"\n",
    "\"{ } is working on { } programming!\""
   ]
  },
  {
   "cell_type": "code",
   "execution_count": 30,
   "id": "7ef4563b",
   "metadata": {},
   "outputs": [
    {
     "name": "stdout",
     "output_type": "stream",
     "text": [
      "Donard's favorite sports is Basketball.Donard is working on Python programming!\n"
     ]
    }
   ],
   "source": [
    "name = \"Donard\"\n",
    "sports = \"Basketball\"\n",
    "prog = \"Python\"\n",
    "\n",
    "print(\"{}'s favorite sports is {}.\" \"{} is working on {} programming!\".format(name, sports, name, prog))"
   ]
  },
  {
   "cell_type": "markdown",
   "id": "f23355be",
   "metadata": {},
   "source": [
    "### Thursday"
   ]
  },
  {
   "cell_type": "markdown",
   "id": "6f5b556e",
   "metadata": {},
   "source": [
    "String Manipulation"
   ]
  },
  {
   "cell_type": "code",
   "execution_count": 31,
   "id": "5b764900",
   "metadata": {},
   "outputs": [
    {
     "name": "stdout",
     "output_type": "stream",
     "text": [
      "John Smith\n"
     ]
    }
   ],
   "source": [
    "# using the title method to capitalize a string\n",
    "name = \"john smith\"\n",
    "print( name.title( ) )"
   ]
  },
  {
   "cell_type": "code",
   "execution_count": 32,
   "id": "74170718",
   "metadata": {},
   "outputs": [
    {
     "name": "stdout",
     "output_type": "stream",
     "text": [
      "Hello there.\n"
     ]
    }
   ],
   "source": [
    "# replacing an exclamation point with a period\n",
    "words = \"Hello there!\"\n",
    "print( words.replace( \"!\", \".\" ) )"
   ]
  },
  {
   "cell_type": "code",
   "execution_count": 33,
   "id": "9ddbad49",
   "metadata": {},
   "outputs": [
    {
     "name": "stdout",
     "output_type": "stream",
     "text": [
      "5\n"
     ]
    }
   ],
   "source": [
    "# finding the starting index of our searched term\n",
    "s = \"Look over that way\"\n",
    "print( s.find(\"over\") )"
   ]
  },
  {
   "cell_type": "code",
   "execution_count": 34,
   "id": "30eed4ad",
   "metadata": {},
   "outputs": [
    {
     "name": "stdout",
     "output_type": "stream",
     "text": [
      "john\n"
     ]
    }
   ],
   "source": [
    "# removing white space with strip\n",
    "name = \" john \"\n",
    "print( name.strip( ) )"
   ]
  },
  {
   "cell_type": "code",
   "execution_count": 35,
   "id": "8f7d7fd8",
   "metadata": {},
   "outputs": [
    {
     "name": "stdout",
     "output_type": "stream",
     "text": [
      "['These', 'words', 'are', 'separated', 'by', 'spaces']\n"
     ]
    }
   ],
   "source": [
    "# converting a string into a list of words\n",
    "s = \"These words are separated by spaces\"\n",
    "print( s.split(\" \") )"
   ]
  },
  {
   "cell_type": "markdown",
   "id": "f2820747",
   "metadata": {},
   "source": [
    "THURSDAY EXERCISES"
   ]
  },
  {
   "cell_type": "markdown",
   "id": "c0db4fb6",
   "metadata": {},
   "source": [
    "1. Uppercasing: Try manipulating the string “uppercase” so it prints out as all\n",
    "uppercase letters. You’ll need to look up a new method."
   ]
  },
  {
   "cell_type": "code",
   "execution_count": 38,
   "id": "4850c45f",
   "metadata": {},
   "outputs": [
    {
     "name": "stdout",
     "output_type": "stream",
     "text": [
      "UPPERCASE\n"
     ]
    }
   ],
   "source": [
    "# converting a string into a list of words\n",
    "s = \"uppercase\"\n",
    "print( s.upper())"
   ]
  },
  {
   "cell_type": "markdown",
   "id": "d3998bbe",
   "metadata": {},
   "source": [
    "2. Strip Symbols: Strip all the dollar signs from the left side of this string “$$John\n",
    "Smith”. Try it with .lstrip( ) and .strip( ). To see a description on how to use\n",
    "the strip method further, try using the help function in Python by typing the\n",
    "following: help(\" \".strip)"
   ]
  },
  {
   "cell_type": "code",
   "execution_count": 39,
   "id": "ea02ec36",
   "metadata": {},
   "outputs": [
    {
     "name": "stdout",
     "output_type": "stream",
     "text": [
      "John Smith\n"
     ]
    }
   ],
   "source": [
    "n = \"$$John Smith\"\n",
    "print(n.strip(\"$$\"))"
   ]
  }
 ],
 "metadata": {
  "kernelspec": {
   "display_name": "Python 3 (ipykernel)",
   "language": "python",
   "name": "python3"
  },
  "language_info": {
   "codemirror_mode": {
    "name": "ipython",
    "version": 3
   },
   "file_extension": ".py",
   "mimetype": "text/x-python",
   "name": "python",
   "nbconvert_exporter": "python",
   "pygments_lexer": "ipython3",
   "version": "3.9.13"
  }
 },
 "nbformat": 4,
 "nbformat_minor": 5
}
