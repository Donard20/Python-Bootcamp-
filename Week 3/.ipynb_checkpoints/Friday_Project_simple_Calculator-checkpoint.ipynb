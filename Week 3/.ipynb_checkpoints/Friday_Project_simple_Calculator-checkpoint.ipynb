{
 "cells": [
  {
   "cell_type": "markdown",
   "id": "975b4c17",
   "metadata": {},
   "source": [
    "# Friday: Creating a Calculator"
   ]
  },
  {
   "cell_type": "code",
   "execution_count": 1,
   "id": "e8c66d5c",
   "metadata": {},
   "outputs": [
    {
     "name": "stdout",
     "output_type": "stream",
     "text": [
      "Would you like to add/subtract/multiply/divide? divide\n",
      "You chose divide.\n",
      "You chose divide.\n",
      "Please keep in mind that the order of your numbers matter.\n",
      "What is the first number? 96\n",
      "What is the second number? 3\n",
      "First Number: 96\n",
      "Second Number: 3\n",
      "96.0 / 3.0 = 32.0\n"
     ]
    }
   ],
   "source": [
    "# step 1: ask user for calculation to be performed\n",
    "operation = input(\"Would you like to add/subtract/multiply/divide? \").lower()\n",
    "print( \"You chose {}.\".format(operation) ) # for testing purposes\n",
    "\n",
    "# step 2: ask for numbers, alert order matters for subtracting and dividing\n",
    "if operation == \"subtract\" or operation == \"divide\":\n",
    "    print( \"You chose {}.\".format(operation) )\n",
    "    print(\"Please keep in mind that the order of your numbers matter.\")\n",
    "num1 = input(\"What is the first number? \")\n",
    "num2 = input(\"What is the second number? \")\n",
    "print( \"First Number: {}\".format(num1) ) # for testing purposes\n",
    "print( \"Second Number: {}\".format(num2) ) # for testing purposes\n",
    "\n",
    "# step 3: setup try/except for mathematical operation\n",
    "try:\n",
    "    # step 3a: immediately try to convert numbers input to floats\n",
    "    num1, num2 = float(num1), float(num2)\n",
    "    # step 3b: perform operation and print result\n",
    "    if operation == \"add\":\n",
    "        result = num1 + num2\n",
    "        print( \"{} + {} = {}\".format(num1, num2, result) )\n",
    "    elif operation == \"subtract\":\n",
    "        result = num1 - num2\n",
    "        print( \"{} - {} = {}\".format(num1, num2, result) )\n",
    "    elif operation == \"multiply\":\n",
    "        result = num1 * num2\n",
    "        print( \"{} * {} = {}\".format(num1, num2, result) )\n",
    "    elif operation == \"divide\":\n",
    "        result = num1 / num2\n",
    "        print( \"{} / {} = {}\".format(num1, num2, result) )\n",
    "    else:\n",
    "    # else will be hit if they didn't chose an option correctly\n",
    "        print(\"Sorry, but '{}' is not an option.\".format(operation) )\n",
    "except:\n",
    "    # steb 3c: print error\n",
    "    print(\"Error: Improper numbers used. Please try again.\")\n"
   ]
  }
 ],
 "metadata": {
  "kernelspec": {
   "display_name": "Python 3 (ipykernel)",
   "language": "python",
   "name": "python3"
  },
  "language_info": {
   "codemirror_mode": {
    "name": "ipython",
    "version": 3
   },
   "file_extension": ".py",
   "mimetype": "text/x-python",
   "name": "python",
   "nbconvert_exporter": "python",
   "pygments_lexer": "ipython3",
   "version": "3.9.13"
  }
 },
 "nbformat": 4,
 "nbformat_minor": 5
}
