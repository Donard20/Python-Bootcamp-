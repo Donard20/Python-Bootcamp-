{
 "cells": [
  {
   "cell_type": "markdown",
   "id": "5c740f66",
   "metadata": {},
   "source": [
    "# User Input and Conditionals"
   ]
  },
  {
   "cell_type": "markdown",
   "id": "c9e23eae",
   "metadata": {},
   "source": [
    "### Monday"
   ]
  },
  {
   "cell_type": "code",
   "execution_count": 1,
   "id": "7e1423e3",
   "metadata": {
    "scrolled": true
   },
   "outputs": [
    {
     "name": "stdout",
     "output_type": "stream",
     "text": [
      "What is your name? Donard\n",
      "Donard\n"
     ]
    }
   ],
   "source": [
    "# accepting and outputting user input\n",
    "print( input(\"What is your name? \") )"
   ]
  },
  {
   "cell_type": "code",
   "execution_count": 2,
   "id": "19fdc56b",
   "metadata": {},
   "outputs": [
    {
     "name": "stdout",
     "output_type": "stream",
     "text": [
      "What is your name? Don\n",
      "Hello Don!\n"
     ]
    }
   ],
   "source": [
    "# saving what the user inputs\n",
    "ans = input(\"What is your name? \")\n",
    "print(\"Hello {}!\".format(ans) )"
   ]
  },
  {
   "cell_type": "code",
   "execution_count": 3,
   "id": "f071a271",
   "metadata": {},
   "outputs": [
    {
     "name": "stdout",
     "output_type": "stream",
     "text": [
      "<class 'int'>\n"
     ]
    }
   ],
   "source": [
    "# how to check the data type of a variable\n",
    "num = 5\n",
    "print( type(num) )"
   ]
  },
  {
   "cell_type": "code",
   "execution_count": 4,
   "id": "831ef76c",
   "metadata": {},
   "outputs": [
    {
     "name": "stdout",
     "output_type": "stream",
     "text": [
      "<class 'int'>\n"
     ]
    }
   ],
   "source": [
    "# converting a variable from one data type to another\n",
    "num = \"9\"\n",
    "num = int(num) # re-declaring num to store an integer\n",
    "print( type(num) ) # checking type to make sure conversion worked"
   ]
  },
  {
   "cell_type": "code",
   "execution_count": 7,
   "id": "c3588b47",
   "metadata": {},
   "outputs": [
    {
     "name": "stdout",
     "output_type": "stream",
     "text": [
      "Type a number to add: 5\n",
      "<class 'str'>\n",
      "100 + 5 = 105\n"
     ]
    }
   ],
   "source": [
    "# working with user input to perform calculations\n",
    "ans = input(\"Type a number to add: \")\n",
    "print( type(ans) ) # default type is string, must convert\n",
    "result = 100 + int(ans)\n",
    "print( \"100 + {} = {}\".format(ans, result) )"
   ]
  },
  {
   "cell_type": "code",
   "execution_count": 10,
   "id": "88b88fae",
   "metadata": {},
   "outputs": [
    {
     "name": "stdout",
     "output_type": "stream",
     "text": [
      "Type a number to add: 69\n",
      "100 + 69.0 = 169.0\n",
      "The program did not break!\n"
     ]
    }
   ],
   "source": [
    "# using the try and except blocks, use tab to indent where necessary\n",
    "try:\n",
    "    ans = float( input(\"Type a number to add: \") )\n",
    "    print( \"100 + {} = {}\".format(ans, 100 + ans) )\n",
    "except:\n",
    "    print(\"You did not put in a valid number!\")\n",
    "    # without try/except print statement would not get hit if error occurs\n",
    "print(\"The program did not break!\")"
   ]
  },
  {
   "cell_type": "markdown",
   "id": "43773e49",
   "metadata": {},
   "source": [
    "MONDAY EXERCISES"
   ]
  },
  {
   "cell_type": "markdown",
   "id": "49588d1f",
   "metadata": {},
   "source": [
    "1. Converting: Try converting a string of “True” to a boolean, and then output its\n",
    "type to make sure it converted properly."
   ]
  },
  {
   "cell_type": "code",
   "execution_count": 11,
   "id": "d498db28",
   "metadata": {},
   "outputs": [
    {
     "name": "stdout",
     "output_type": "stream",
     "text": [
      "True\n"
     ]
    }
   ],
   "source": [
    "n = bool(\"True\")\n",
    "print(n)"
   ]
  },
  {
   "cell_type": "markdown",
   "id": "35f6e324",
   "metadata": {},
   "source": [
    "2. Sum of Inputs: Create two input statements, and ask the user to enter two\n",
    "numbers. Print the sum of these numbers out."
   ]
  },
  {
   "cell_type": "code",
   "execution_count": 14,
   "id": "226821b2",
   "metadata": {},
   "outputs": [
    {
     "name": "stdout",
     "output_type": "stream",
     "text": [
      "Enter 1st number: 69\n",
      "Enter 2nd number: 96\n",
      "69 + 96 is 165\n"
     ]
    }
   ],
   "source": [
    "n = int(input(\"Enter 1st number: \"))\n",
    "m = int(input(\"Enter 2nd number: \"))\n",
    "# add 2 elements\n",
    "result = n + m\n",
    "print(\"{} + {} is {}\".format(n,m,result))"
   ]
  },
  {
   "cell_type": "markdown",
   "id": "ec5ce4ea",
   "metadata": {},
   "source": [
    "### Tuesday: If Statements"
   ]
  },
  {
   "cell_type": "code",
   "execution_count": 16,
   "id": "7c8bb729",
   "metadata": {},
   "outputs": [
    {
     "name": "stdout",
     "output_type": "stream",
     "text": [
      "x is less than y\n"
     ]
    }
   ],
   "source": [
    "# using an if statement to only run code if the condition is met\n",
    "x, y = 5, 10\n",
    "if x < y:\n",
    "    print(\"x is less than y\")"
   ]
  },
  {
   "cell_type": "code",
   "execution_count": 17,
   "id": "48656bde",
   "metadata": {},
   "outputs": [
    {
     "name": "stdout",
     "output_type": "stream",
     "text": [
      "What is 5 + 5? 10\n",
      "You got it right!\n"
     ]
    }
   ],
   "source": [
    "# checking user input\n",
    "ans = int( input(\"What is 5 + 5? \") )\n",
    "if ans == 10:\n",
    "    print(\"You got it right!\")"
   ]
  },
  {
   "cell_type": "code",
   "execution_count": 18,
   "id": "3f09e759",
   "metadata": {},
   "outputs": [
    {
     "name": "stdout",
     "output_type": "stream",
     "text": [
      "Both statements were true\n"
     ]
    }
   ],
   "source": [
    "# using the keyword 'and' in an 'if statement'\n",
    "x, y, z = 5, 10, 5\n",
    "if x < y and x == z:\n",
    "    print(\"Both statements were true\")"
   ]
  },
  {
   "cell_type": "code",
   "execution_count": 20,
   "id": "42fd3c1f",
   "metadata": {},
   "outputs": [
    {
     "name": "stdout",
     "output_type": "stream",
     "text": [
      "One or both statements were true\n"
     ]
    }
   ],
   "source": [
    "# using the keyword 'or' in an 'if statement'\n",
    "x, y, z = 5, 10, 5\n",
    "if x < y or x != z:\n",
    "    print(\"One or both statements were true\")"
   ]
  },
  {
   "cell_type": "code",
   "execution_count": 21,
   "id": "a8c02868",
   "metadata": {},
   "outputs": [
    {
     "name": "stdout",
     "output_type": "stream",
     "text": [
      "Flag is False\n"
     ]
    }
   ],
   "source": [
    "# using the keyword 'not' within an 'if statement'\n",
    "flag = False\n",
    "if not flag: # same as saying if not true\n",
    "    print(\"Flag is False\")"
   ]
  },
  {
   "cell_type": "code",
   "execution_count": 23,
   "id": "5882c236",
   "metadata": {},
   "outputs": [
    {
     "name": "stdout",
     "output_type": "stream",
     "text": [
      "Baseball contains the character b\n"
     ]
    }
   ],
   "source": [
    "# using the keyword 'in' within an 'if statement'\n",
    "word = \"Baseball\"\n",
    "if \"b\" in word:\n",
    "    print( \"{} contains the character b\".format(word) )"
   ]
  },
  {
   "cell_type": "code",
   "execution_count": 24,
   "id": "694ea921",
   "metadata": {},
   "outputs": [
    {
     "name": "stdout",
     "output_type": "stream",
     "text": [
      "Baseball does not contain the character x\n"
     ]
    }
   ],
   "source": [
    "# using the keyword 'not in' within an 'if statement'\n",
    "word = \"Baseball\"\n",
    "if \"x\" not in word:\n",
    "    print( \"{} does not contain the character x\".format(word) )"
   ]
  },
  {
   "cell_type": "markdown",
   "id": "7b27895e",
   "metadata": {},
   "source": [
    "TUESDAY EXERCISES"
   ]
  },
  {
   "cell_type": "markdown",
   "id": "8c75357a",
   "metadata": {},
   "source": [
    "1. Checking Inclusion – Part 1: Ask the user for input, and check to see if what\n",
    "they wrote includes an “es”."
   ]
  },
  {
   "cell_type": "code",
   "execution_count": 35,
   "id": "5232838e",
   "metadata": {},
   "outputs": [
    {
     "name": "stdout",
     "output_type": "stream",
     "text": [
      "Write anything: I love her especially her smile.\n",
      "Your wrote \"es\" in sentence\n"
     ]
    }
   ],
   "source": [
    "u = input(\"Write anything: \").lower()\n",
    "\n",
    "if \"es\" in u:\n",
    "    print('Your wrote \"es\" in sentence')\n"
   ]
  },
  {
   "cell_type": "markdown",
   "id": "dc3dd28f",
   "metadata": {},
   "source": [
    "### Wednesday: Elif Statements"
   ]
  },
  {
   "cell_type": "code",
   "execution_count": 36,
   "id": "e8b2cfa2",
   "metadata": {},
   "outputs": [
    {
     "name": "stdout",
     "output_type": "stream",
     "text": [
      "x is less\n"
     ]
    }
   ],
   "source": [
    "# using the elif conditional statement\n",
    "x, y = 5, 10\n",
    "if x > y:\n",
    "    print(\"x is greater\")\n",
    "elif x < y:\n",
    "    print(\"x is less\")"
   ]
  },
  {
   "cell_type": "code",
   "execution_count": 37,
   "id": "456c2307",
   "metadata": {},
   "outputs": [
    {
     "name": "stdout",
     "output_type": "stream",
     "text": [
      "equal\n"
     ]
    }
   ],
   "source": [
    "# checking more than one elif conditional statement\n",
    "x, y = 5, 10\n",
    "if x > y:\n",
    "    print(\"x is greater\")\n",
    "elif (x + 10) < y: # checking if 15 is less than 10\n",
    "    print(\"x is less\")\n",
    "elif (x + 5) == y: # checking if 10 is equal to 10\n",
    "    print(\"equal\")"
   ]
  },
  {
   "cell_type": "code",
   "execution_count": 38,
   "id": "071f670c",
   "metadata": {},
   "outputs": [
    {
     "name": "stdout",
     "output_type": "stream",
     "text": [
      "x is equal to z\n"
     ]
    }
   ],
   "source": [
    "# writing multiple conditionals within each other - multiple block levels\n",
    "x, y, z = 5, 10, 5\n",
    "if x > y:\n",
    "    print(\"greater\")\n",
    "elif x <= y:\n",
    "    if x == z:\n",
    "        print(\"x is equal to z\") # resulting output\n",
    "elif x != z:\n",
    "    print(\"x is not equal to z\") # won't get hit"
   ]
  },
  {
   "cell_type": "code",
   "execution_count": 39,
   "id": "89a3bd5e",
   "metadata": {},
   "outputs": [
    {
     "name": "stdout",
     "output_type": "stream",
     "text": [
      "x is less\n"
     ]
    }
   ],
   "source": [
    "# testing output of an if and elif statement that are both true\n",
    "x, y, z = 5, 10, 5\n",
    "if x < y:\n",
    "    print(\"x is less\")\n",
    "elif x == z:\n",
    "    print(\"x is equal to z\")"
   ]
  },
  {
   "cell_type": "markdown",
   "id": "b0b08286",
   "metadata": {},
   "source": [
    "WEDNESDAY EXERCISES"
   ]
  },
  {
   "cell_type": "markdown",
   "id": "7f872101",
   "metadata": {},
   "source": [
    "1. Higher/Lower: Ask the user to input a number. Type convert that number, and\n",
    "use an if/elif statement to print whether it’s higher or lower than 100."
   ]
  },
  {
   "cell_type": "code",
   "execution_count": 42,
   "id": "65ac6727",
   "metadata": {},
   "outputs": [
    {
     "name": "stdout",
     "output_type": "stream",
     "text": [
      "Put a number: 112\n",
      "You put 112 higher than 100\n"
     ]
    }
   ],
   "source": [
    "u = int(input(\"Put a number: \"))\n",
    "\n",
    "if u > 100:\n",
    "    print(\"You put {} higher than 100\".format(u))\n",
    "else:\n",
    "    print(\"You put {} lower than 100\".format(u))"
   ]
  },
  {
   "cell_type": "markdown",
   "id": "f4e332ea",
   "metadata": {},
   "source": [
    "### Thursday: Else Statements"
   ]
  },
  {
   "cell_type": "code",
   "execution_count": 43,
   "id": "2ca5c24d",
   "metadata": {},
   "outputs": [
    {
     "name": "stdout",
     "output_type": "stream",
     "text": [
      "Hello John!\n"
     ]
    }
   ],
   "source": [
    "# using an else statement\n",
    "name = \"John\"\n",
    "if name == \"Jacob\":\n",
    "    print(\"Hello Jacob!\")\n",
    "else:\n",
    "    print(\"Hello {}!\".format(name) )"
   ]
  },
  {
   "cell_type": "code",
   "execution_count": 44,
   "id": "a5d24cea",
   "metadata": {},
   "outputs": [
    {
     "name": "stdout",
     "output_type": "stream",
     "text": [
      "Name starts with a J\n"
     ]
    }
   ],
   "source": [
    "# writing a full conditional statement with if, elif, else\n",
    "name = \"John\"\n",
    "if name[0] == \"A\":\n",
    "    print(\"Name starts with an A\")\n",
    "elif name[0] == \"B\":\n",
    "    print(\"Name starts with a B\")\n",
    "elif name[0] == \"J\":\n",
    "    print(\"Name starts with a J\")\n",
    "else: # covers all other possibilities\n",
    "    print( \"Name starts with a { }\".format( name[0] ) )"
   ]
  },
  {
   "cell_type": "markdown",
   "id": "cf25c768",
   "metadata": {},
   "source": [
    "THURSDAY EXERCISES"
   ]
  },
  {
   "cell_type": "markdown",
   "id": "a829019c",
   "metadata": {},
   "source": [
    "2. User Input: Ask the user to input the time of day in military time without a\n",
    "colon (1100 = 11:00 AM). Write a conditional statement so that it outputs the\n",
    "following:\n",
    "\n",
    "a. “Good Morning” if less than 1200\n",
    "b. “Good Afternoon” if between 1200 and 1700\n",
    "c. “Good Evening” if equal or above 1700"
   ]
  },
  {
   "cell_type": "code",
   "execution_count": 49,
   "id": "31041169",
   "metadata": {},
   "outputs": [
    {
     "name": "stdout",
     "output_type": "stream",
     "text": [
      "Enter military time without colon: 2100\n",
      "Good Evening\n"
     ]
    }
   ],
   "source": [
    "u = int(input(\"Enter military time without colon: \"))\n",
    "\n",
    "if u <= 1200:\n",
    "    print(\"Good Morning\")\n",
    "elif u > 1200 and u < 1700:\n",
    "    print(\"Good Afternoon\")\n",
    "else:\n",
    "    print(\"Good Evening\")"
   ]
  }
 ],
 "metadata": {
  "kernelspec": {
   "display_name": "Python 3 (ipykernel)",
   "language": "python",
   "name": "python3"
  },
  "language_info": {
   "codemirror_mode": {
    "name": "ipython",
    "version": 3
   },
   "file_extension": ".py",
   "mimetype": "text/x-python",
   "name": "python",
   "nbconvert_exporter": "python",
   "pygments_lexer": "ipython3",
   "version": "3.9.13"
  }
 },
 "nbformat": 4,
 "nbformat_minor": 5
}
