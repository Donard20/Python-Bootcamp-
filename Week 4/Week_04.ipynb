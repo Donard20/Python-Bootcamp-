{
 "cells": [
  {
   "cell_type": "markdown",
   "id": "db0e6367",
   "metadata": {},
   "source": [
    "# Lists and Loops"
   ]
  },
  {
   "cell_type": "markdown",
   "id": "001dca6a",
   "metadata": {},
   "source": [
    "## Monday"
   ]
  },
  {
   "cell_type": "code",
   "execution_count": 1,
   "id": "4344983d",
   "metadata": {},
   "outputs": [
    {
     "name": "stdout",
     "output_type": "stream",
     "text": [
      "[5, 10, 15.2, 20]\n"
     ]
    }
   ],
   "source": [
    "# declaring a list of numbers\n",
    "nums = [5, 10, 15.2, 20]\n",
    "print(nums)"
   ]
  },
  {
   "cell_type": "code",
   "execution_count": 2,
   "id": "bbbae7ed",
   "metadata": {
    "scrolled": true
   },
   "outputs": [
    {
     "name": "stdout",
     "output_type": "stream",
     "text": [
      "10\n",
      "15.2\n"
     ]
    }
   ],
   "source": [
    "# accessing elements within a list\n",
    "print( nums[1] ) # will output the value at index 1 = 10\n",
    "num = nums[2] # saves index value 2 into num\n",
    "print(num) # prints value assigned to num"
   ]
  },
  {
   "cell_type": "code",
   "execution_count": 3,
   "id": "6150706c",
   "metadata": {},
   "outputs": [
    {
     "name": "stdout",
     "output_type": "stream",
     "text": [
      "[4.3, 'word', True]\n"
     ]
    }
   ],
   "source": [
    "# declaring a list of mixed data types\n",
    "num = 4.3\n",
    "data = [num, \"word\", True] # the power of data collection\n",
    "print(data)"
   ]
  },
  {
   "cell_type": "code",
   "execution_count": 4,
   "id": "28e3a824",
   "metadata": {},
   "outputs": [
    {
     "name": "stdout",
     "output_type": "stream",
     "text": [
      "[5, 'book', [34, 'hello'], True]\n",
      "[34, 'hello']\n"
     ]
    }
   ],
   "source": [
    "# understanding lists within lists\n",
    "data = [5, \"book\", [ 34, \"hello\" ], True] # lists can hold any type\n",
    "print(data)\n",
    "print( data[2] )"
   ]
  },
  {
   "cell_type": "code",
   "execution_count": 5,
   "id": "bb7c03bc",
   "metadata": {},
   "outputs": [
    {
     "name": "stdout",
     "output_type": "stream",
     "text": [
      "34\n",
      "hello\n"
     ]
    }
   ],
   "source": [
    "# using double bracket notation to access lists within lists\n",
    "print( data[2][0] ) # will output 34\n",
    "inner_list = data[2] # inner list will equal [34, 'hello']\n",
    "print( inner_list[1] ) # will output 'hello'"
   ]
  },
  {
   "cell_type": "code",
   "execution_count": 6,
   "id": "03bc4e44",
   "metadata": {},
   "outputs": [
    {
     "name": "stdout",
     "output_type": "stream",
     "text": [
      "[5, 10, 15, 20]\n",
      "[100, 10, 15, 20]\n"
     ]
    }
   ],
   "source": [
    "# changing values in a list through index\n",
    "data = [5, 10, 15, 20]\n",
    "print(data)\n",
    "data[0] = 100 # change the value at index 0 - (5 to 100)\n",
    "print(data)"
   ]
  },
  {
   "cell_type": "code",
   "execution_count": 7,
   "id": "d79c2fb2",
   "metadata": {},
   "outputs": [
    {
     "name": "stdout",
     "output_type": "stream",
     "text": [
      "a: [5, 10]\t b: [5, 10]\n",
      "Location a[0]: 3181858417072\t Location b[0]: 3181858417072\n",
      "a: [20, 10]\t b: [20, 10]\n"
     ]
    }
   ],
   "source": [
    "# understanding how lists are stored\n",
    "a = [5, 10]\n",
    "b = a\n",
    "print( \"a: {}\\t b: {}\".format(a, b) )\n",
    "print( \"Location a[0]: {}\\t Location b[0]: {}\".format( id(a[0]), id(b[0]) ) )\n",
    "a[0] = 20 # re-declaring the value of a[0] also changes b[0]\n",
    "print( \"a: {}\\t b: {}\".format(a, b) )"
   ]
  },
  {
   "cell_type": "code",
   "execution_count": 8,
   "id": "9fc68bd5",
   "metadata": {},
   "outputs": [
    {
     "name": "stdout",
     "output_type": "stream",
     "text": [
      "data: [50, 10, 15, 20]\t data_copy: [5, 10, 15, 20]\n"
     ]
    }
   ],
   "source": [
    "# using [:] to copy a list\n",
    "data = [5, 10, 15, 20]\n",
    "data_copy = data[ : ] # a single colon copies the list\n",
    "data[0] = 50\n",
    "print( \"data: {}\\t data_copy: {}\".format(data, data_copy) )"
   ]
  },
  {
   "cell_type": "markdown",
   "id": "6e5e23db",
   "metadata": {},
   "source": [
    "MONDAY EXERCISES"
   ]
  },
  {
   "cell_type": "markdown",
   "id": "e22f446b",
   "metadata": {},
   "source": [
    "1. Sports: Define a list of strings, where each string is a sport. Then output each\n",
    "sport with the following line “I like to play {}”…"
   ]
  },
  {
   "cell_type": "code",
   "execution_count": 10,
   "id": "8fced719",
   "metadata": {},
   "outputs": [
    {
     "name": "stdout",
     "output_type": "stream",
     "text": [
      "I like to play Basketball\n"
     ]
    }
   ],
   "source": [
    "list = [\"basketball\", \"swimming\", \"soccer\"]\n",
    "\n",
    "print(\"I like to play {}\".format(list[0].title()))"
   ]
  },
  {
   "cell_type": "markdown",
   "id": "9213e320",
   "metadata": {},
   "source": [
    "2. First Character: For the following list, print out each item’s first letter. (output\n",
    "should be ‘J’, ‘A’, ‘S’, ‘K’)"
   ]
  },
  {
   "cell_type": "code",
   "execution_count": 14,
   "id": "6d35b99d",
   "metadata": {},
   "outputs": [
    {
     "name": "stdout",
     "output_type": "stream",
     "text": [
      "'J' 'A' 'S' 'K' "
     ]
    }
   ],
   "source": [
    "names = [\"John\",\"Abraham\", \"Sam\", \"Kelly\"]\n",
    "\n",
    "for n in names:\n",
    "    j =  n[0].title()\n",
    "    print(\"'{}'\".format(j), end = ' ') # I searched in stackoverflow this \"end code\" to print it in row not the default column print"
   ]
  },
  {
   "cell_type": "markdown",
   "id": "c8d4da25",
   "metadata": {},
   "source": [
    "## Tuesday: For Loops"
   ]
  },
  {
   "cell_type": "code",
   "execution_count": 15,
   "id": "7b40f438",
   "metadata": {},
   "outputs": [
    {
     "name": "stdout",
     "output_type": "stream",
     "text": [
      "Value: 0\n",
      "Value: 1\n",
      "Value: 2\n",
      "Value: 3\n",
      "Value: 4\n"
     ]
    }
   ],
   "source": [
    "# writing your first for loop using range\n",
    "for num in range(5):\n",
    "    print( \"Value: {}\".format(num) )"
   ]
  },
  {
   "cell_type": "code",
   "execution_count": 17,
   "id": "8d019674",
   "metadata": {},
   "outputs": [
    {
     "name": "stdout",
     "output_type": "stream",
     "text": [
      "Value: 2\n",
      "Value: 4\n",
      "Value: 6\n",
      "Value: 8\n"
     ]
    }
   ],
   "source": [
    "# providing the start, stop, and step for the range function\n",
    "for num in range(2, 10, 2):\n",
    "    print( \"Value: {}\".format(num) ) # will print all evens between 2 and 10"
   ]
  },
  {
   "cell_type": "code",
   "execution_count": 18,
   "id": "ffb5777e",
   "metadata": {},
   "outputs": [
    {
     "name": "stdout",
     "output_type": "stream",
     "text": [
      "Value: J\n",
      "Value: o\n",
      "Value: h\n",
      "Value: n\n",
      "Value:  \n",
      "Value: S\n",
      "Value: m\n",
      "Value: i\n",
      "Value: t\n",
      "Value: h\n"
     ]
    }
   ],
   "source": [
    "# printing all characters in a name using the 'in' keyword\n",
    "name = \"John Smith\"\n",
    "for letter in name:\n",
    "    print( \"Value: {}\".format(letter) )"
   ]
  },
  {
   "cell_type": "markdown",
   "id": "7ee2cb4d",
   "metadata": {},
   "source": [
    "#### Contines, Break and Pass"
   ]
  },
  {
   "cell_type": "code",
   "execution_count": 19,
   "id": "9bf9377d",
   "metadata": {
    "scrolled": true
   },
   "outputs": [
    {
     "name": "stdout",
     "output_type": "stream",
     "text": [
      "0\n",
      "1\n",
      "2\n",
      "4\n"
     ]
    }
   ],
   "source": [
    "# using the continue statement within a foor loop\n",
    "for num in range(5):\n",
    "    if num == 3:\n",
    "        continue\n",
    "    print(num)"
   ]
  },
  {
   "cell_type": "code",
   "execution_count": 20,
   "id": "17b7919f",
   "metadata": {},
   "outputs": [
    {
     "name": "stdout",
     "output_type": "stream",
     "text": [
      "0\n",
      "1\n",
      "2\n"
     ]
    }
   ],
   "source": [
    "# breaking out of a loop using the 'break' keyword\n",
    "for num in range(5):\n",
    "    if num == 3:\n",
    "        break\n",
    "    print(num)"
   ]
  },
  {
   "cell_type": "code",
   "execution_count": 21,
   "id": "0efc02cd",
   "metadata": {},
   "outputs": [],
   "source": [
    "# setting a placeholder using the 'pass' keyword\n",
    "for i in range(5):\n",
    "    # TODO: add code to print number\n",
    "    pass"
   ]
  },
  {
   "cell_type": "markdown",
   "id": "58592493",
   "metadata": {},
   "source": [
    "TUESDAY EXERCISES"
   ]
  },
  {
   "cell_type": "markdown",
   "id": "46a1570b",
   "metadata": {},
   "source": [
    "1. Divisible by Three: Write a for loop that prints out all numbers from 1 to 100\n",
    "that are divisible by three."
   ]
  },
  {
   "cell_type": "code",
   "execution_count": 23,
   "id": "9854d8a1",
   "metadata": {
    "scrolled": false
   },
   "outputs": [
    {
     "name": "stdout",
     "output_type": "stream",
     "text": [
      "0 3 6 9 12 15 18 21 24 27 30 33 36 39 42 45 48 51 54 57 60 63 66 69 72 75 78 81 84 87 90 93 96 99 "
     ]
    }
   ],
   "source": [
    "for i in range(0, 100, 3):\n",
    "    print(\"{} \".format(i), end = '')"
   ]
  },
  {
   "cell_type": "markdown",
   "id": "1731d5e7",
   "metadata": {},
   "source": [
    "2. Only Vowels: Ask for user input, and write a for loop that will output all the\n",
    "vowels within it. For example:\n",
    "\n",
    "\"Hello\" ➔ \"eo\""
   ]
  },
  {
   "cell_type": "code",
   "execution_count": 25,
   "id": "157a3a1d",
   "metadata": {},
   "outputs": [
    {
     "name": "stdout",
     "output_type": "stream",
     "text": [
      "Enter word: Hello\n",
      "'e' 'o' "
     ]
    }
   ],
   "source": [
    "u = str(input('Enter word: ')).lower()\n",
    "vowel = [\"a\", \"e\", \"i\", \"o\", \"u\"]\n",
    "for j in u:\n",
    "    if j in vowel:\n",
    "        print(\"'{}'\".format(j), end=' ')"
   ]
  },
  {
   "cell_type": "markdown",
   "id": "8fa64958",
   "metadata": {},
   "source": [
    "### Wednesday: While Loops"
   ]
  },
  {
   "cell_type": "code",
   "execution_count": 27,
   "id": "45f45840",
   "metadata": {},
   "outputs": [
    {
     "name": "stdout",
     "output_type": "stream",
     "text": [
      "10 9 8 7 6 5 4 3 2 1 "
     ]
    }
   ],
   "source": [
    "# writing your first while loop\n",
    "health = 10\n",
    "while health > 0:\n",
    "    print(f\"{health} \", end = '') #I used f format to add space in result\n",
    "    health -= 1 # forgetting this line will result in infinite loop"
   ]
  },
  {
   "cell_type": "code",
   "execution_count": 28,
   "id": "50277f1d",
   "metadata": {},
   "outputs": [
    {
     "name": "stdout",
     "output_type": "stream",
     "text": [
      "0 0\n",
      "0 1\n",
      "0 2\n",
      "1 0\n",
      "1 1\n",
      "1 2\n"
     ]
    }
   ],
   "source": [
    "# using two or more loops together is called a nested loop\n",
    "for i in range(2): # outside loop\n",
    "    for j in range(3): # inside loop\n",
    "        print( i, j )"
   ]
  },
  {
   "cell_type": "markdown",
   "id": "eace80fd",
   "metadata": {},
   "source": [
    "WEDNESDAY EXERCISES"
   ]
  },
  {
   "cell_type": "markdown",
   "id": "fc2877cc",
   "metadata": {},
   "source": [
    "1. User Input: Write a while loop that continues to ask for user input and runs\n",
    "until they type “quit”."
   ]
  },
  {
   "cell_type": "code",
   "execution_count": 31,
   "id": "9270de74",
   "metadata": {},
   "outputs": [
    {
     "name": "stdout",
     "output_type": "stream",
     "text": [
      "type 'quit' if you want to quit: nope\n",
      "type 'quit' if you want to quit: no\n",
      "type 'quit' if you want to quit: hmnn\n",
      "type 'quit' if you want to quit: yes\n",
      "type 'quit' if you want to quit: quit\n"
     ]
    }
   ],
   "source": [
    "status = True\n",
    "while status:\n",
    "    w = str(input(\"type 'quit' if you want to quit: \")).lower()\n",
    "    if w == 'quit':\n",
    "        status = False"
   ]
  },
  {
   "cell_type": "markdown",
   "id": "1c5b2474",
   "metadata": {},
   "source": [
    "2. Double Loop: Write a for loop within a while loop that will count from 0 to 5,\n",
    "but when it reaches 3, it sets a game_over variable to True and breaks out of\n",
    "the loop. The while loop should continue to loop until game_over is True. The\n",
    "output should only be 0, 1, 2."
   ]
  },
  {
   "cell_type": "code",
   "execution_count": 33,
   "id": "5d326b22",
   "metadata": {
    "scrolled": true
   },
   "outputs": [
    {
     "name": "stdout",
     "output_type": "stream",
     "text": [
      "0 1 2 "
     ]
    }
   ],
   "source": [
    "game_over = False\n",
    "while game_over != True: # i am confuse in this area but looking at stackoverflow I know this is where I made a mistake\n",
    "    for x in range(5):\n",
    "        if (x == 3):\n",
    "            game_over = True\n",
    "            break\n",
    "        print(x, end=' ')"
   ]
  },
  {
   "cell_type": "markdown",
   "id": "ccd606d5",
   "metadata": {},
   "source": [
    "## Thursday: Working with Lists"
   ]
  },
  {
   "cell_type": "code",
   "execution_count": 34,
   "id": "ca46c922",
   "metadata": {},
   "outputs": [
    {
     "name": "stdout",
     "output_type": "stream",
     "text": [
      "3\n"
     ]
    }
   ],
   "source": [
    "# checking the number of items within a list\n",
    "nums = [5, 10, 15]\n",
    "length = len(nums) # len() returns an integer\n",
    "print(length)"
   ]
  },
  {
   "cell_type": "code",
   "execution_count": 35,
   "id": "359534e2",
   "metadata": {},
   "outputs": [
    {
     "name": "stdout",
     "output_type": "stream",
     "text": [
      "[10, 15]\n",
      "[5, 10]\n",
      "[5, 15]\n",
      "[10, 15]\n"
     ]
    }
   ],
   "source": [
    "# accessing specific items of a list with slices\n",
    "print( nums[ 1 : 3 ] ) # will output items in index 1 and 2\n",
    "print( nums[ : 2 ] ) # will output items in index 0 and 1\n",
    "print( nums[ : : 2 ] ) # will print every other index - 0, 2, 4, etc.\n",
    "print( nums[ -2 : ] ) # will output the last two items in list"
   ]
  },
  {
   "cell_type": "code",
   "execution_count": 36,
   "id": "f7cd7e06",
   "metadata": {},
   "outputs": [
    {
     "name": "stdout",
     "output_type": "stream",
     "text": [
      "[10, 20, 5]\n"
     ]
    }
   ],
   "source": [
    "# adding an item to the back of a list using append\n",
    "nums = [10, 20]\n",
    "nums.append(5)\n",
    "print(nums) # outputs [10, 20, 5]"
   ]
  },
  {
   "cell_type": "code",
   "execution_count": 42,
   "id": "f15fe7a2",
   "metadata": {},
   "outputs": [
    {
     "name": "stdout",
     "output_type": "stream",
     "text": [
      "['glove', 'ball', 'base']\n"
     ]
    }
   ],
   "source": [
    "# adding a value to the beginning of the list\n",
    "words = [ \"ball\", \"base\" ]\n",
    "words.insert(0, \"glove\") # first number is the index, second is the value #wrong in the book\n",
    "print(words)"
   ]
  },
  {
   "cell_type": "code",
   "execution_count": 43,
   "id": "0d20f805",
   "metadata": {},
   "outputs": [
    {
     "name": "stdout",
     "output_type": "stream",
     "text": [
      "5 \n",
      " ['ball']\n"
     ]
    }
   ],
   "source": [
    "# using pop to remove items and saving to a variable to use later\n",
    "items = [5, \"ball\", True]\n",
    "items.pop( ) # by default removes the last item\n",
    "removed_item = items.pop(0) # removes 5 and saves it into the variable\n",
    "print(removed_item, \"\\n\", items)"
   ]
  },
  {
   "cell_type": "code",
   "execution_count": 44,
   "id": "440e2701",
   "metadata": {},
   "outputs": [
    {
     "name": "stdout",
     "output_type": "stream",
     "text": [
      "['baseball', 'football', 'hockey']\n"
     ]
    }
   ],
   "source": [
    "# using the remove method with a try and except\n",
    "sports = [ \"baseball\", \"soccer\", \"football\", \"hockey\" ]\n",
    "try:\n",
    "    sports.remove(\"soccer\")\n",
    "except:\n",
    "    print(\"That item does not exist in the list\")\n",
    "print(sports)"
   ]
  },
  {
   "cell_type": "code",
   "execution_count": 45,
   "id": "b375bf0f",
   "metadata": {},
   "outputs": [
    {
     "name": "stdout",
     "output_type": "stream",
     "text": [
      "3\n",
      "9\n",
      "17\n"
     ]
    }
   ],
   "source": [
    "# using min, max, and sum\n",
    "nums = [5, 3, 9]\n",
    "print( min(nums) ) # will find the lowest number in the list\n",
    "print( max(nums) ) # will find the highest number in the list\n",
    "print( sum(nums) ) # will add all numbers in the list and return the sum"
   ]
  },
  {
   "cell_type": "code",
   "execution_count": 48,
   "id": "8d9ed217",
   "metadata": {},
   "outputs": [
    {
     "name": "stdout",
     "output_type": "stream",
     "text": [
      "[5, 8, 0, 2] [0, 2, 5, 8]\n"
     ]
    }
   ],
   "source": [
    "# using sorted on lists for numerical and alphabetical data\n",
    "nums = [5, 8, 0, 2]\n",
    "sorted_nums = sorted(nums) # save to a new variable to use later\n",
    "print(nums, sorted_nums) # the original list is in tact"
   ]
  },
  {
   "cell_type": "code",
   "execution_count": 49,
   "id": "7010ba7e",
   "metadata": {},
   "outputs": [
    {
     "name": "stdout",
     "output_type": "stream",
     "text": [
      "[0, 3, 5, 8]\n"
     ]
    }
   ],
   "source": [
    "# sorting a list with .sort() in-place\n",
    "nums = [5, 0, 8, 3]\n",
    "nums.sort( ) # alters the original variable directly\n",
    "print(nums)"
   ]
  },
  {
   "cell_type": "code",
   "execution_count": 50,
   "id": "0271329e",
   "metadata": {},
   "outputs": [
    {
     "name": "stdout",
     "output_type": "stream",
     "text": [
      "found\n",
      "not found\n"
     ]
    }
   ],
   "source": [
    "# using conditional statements on a list\n",
    "names = [ \"Jack\", \"Robert\", \"Mary\" ]\n",
    "if \"Mary\" in names:\n",
    "    print(\"found\") # will run since Mary is in the list\n",
    "if \"Jimmy\" not in names:\n",
    "    print(\"not found\") # will run since Jimmy is not in the list"
   ]
  },
  {
   "cell_type": "code",
   "execution_count": 55,
   "id": "37ca2d26",
   "metadata": {},
   "outputs": [
    {
     "name": "stdout",
     "output_type": "stream",
     "text": [
      "empty\n"
     ]
    }
   ],
   "source": [
    "# using conditionals to see if a list is empty\n",
    "nums = [ ]\n",
    "if not nums: # could also say 'if nums == []'\n",
    "    print(\"empty\")"
   ]
  },
  {
   "cell_type": "code",
   "execution_count": 56,
   "id": "fada25c1",
   "metadata": {},
   "outputs": [
    {
     "name": "stdout",
     "output_type": "stream",
     "text": [
      "['Jack', 'Rob', 'Robert']\n"
     ]
    }
   ],
   "source": [
    "# using the while loop to remove a certain value\n",
    "names = [ \"Bob\", \"Jack\", \"Rob\", \"Bob\", \"Robert\" ]\n",
    "while \"Bob\" in names:\n",
    "    names.remove(\"Bob\") # removes all instances of 'Bob'\n",
    "print(names)"
   ]
  },
  {
   "cell_type": "markdown",
   "id": "e766d50c",
   "metadata": {},
   "source": [
    "THURSDAY EXERCISES"
   ]
  },
  {
   "cell_type": "markdown",
   "id": "e42ab147",
   "metadata": {},
   "source": [
    "1. Remove Duplicates: Remove all duplicates from the list below. Hint: Use the\n",
    ".count( ) method. The output should be [‘Bob’, ‘Kenny’, ‘Amanda’]\n",
    "\n",
    "names = ['Bob', 'Kenny', 'Amanda', 'Bob', 'Kenny']"
   ]
  },
  {
   "cell_type": "code",
   "execution_count": 57,
   "id": "cf87a342",
   "metadata": {},
   "outputs": [
    {
     "name": "stdout",
     "output_type": "stream",
     "text": [
      "['Amanda', 'Bob', 'Kenny']\n"
     ]
    }
   ],
   "source": [
    "names = ['Bob', 'Kenny', 'Amanda', 'Bob', 'Kenny']\n",
    "\n",
    "for name in names:\n",
    "    while names.count(name) > 1:\n",
    "        names.remove(name)\n",
    "    \n",
    "print(names)"
   ]
  },
  {
   "cell_type": "markdown",
   "id": "18216e06",
   "metadata": {},
   "source": [
    "2. User Input: Use a while loop to continually ask the user to input a word, until\n",
    "they type “quit ”. Once they type a word in, add it to a list. Once they quit the\n",
    "loop, use a for loop to output all items within the list."
   ]
  },
  {
   "cell_type": "code",
   "execution_count": 59,
   "id": "05c92c77",
   "metadata": {},
   "outputs": [
    {
     "name": "stdout",
     "output_type": "stream",
     "text": [
      "Type 'quit. If not, we will list what you type: yes\n",
      "Type 'quit. If not, we will list what you type: oko\n",
      "Type 'quit. If not, we will list what you type: ok\n",
      "Type 'quit. If not, we will list what you type: fine\n",
      "Type 'quit. If not, we will list what you type: what\n",
      "Type 'quit. If not, we will list what you type: why\n",
      "Type 'quit. If not, we will list what you type: yess\n",
      "Type 'quit. If not, we will list what you type: quiitt\n",
      "Type 'quit. If not, we will list what you type: quit\n",
      "yes oko ok fine what why yess quiitt "
     ]
    }
   ],
   "source": [
    "status = False\n",
    "l = []\n",
    "while status != True:\n",
    "    r = str(input(\"Type 'quit. If not, we will list what you type: \").lower())\n",
    "    if r != \"quit\":\n",
    "        l.append(r)\n",
    "    elif r == \"quit\":\n",
    "        break\n",
    "for x in l:\n",
    "    print(x, end = ' ')"
   ]
  }
 ],
 "metadata": {
  "kernelspec": {
   "display_name": "Python 3 (ipykernel)",
   "language": "python",
   "name": "python3"
  },
  "language_info": {
   "codemirror_mode": {
    "name": "ipython",
    "version": 3
   },
   "file_extension": ".py",
   "mimetype": "text/x-python",
   "name": "python",
   "nbconvert_exporter": "python",
   "pygments_lexer": "ipython3",
   "version": "3.9.13"
  }
 },
 "nbformat": 4,
 "nbformat_minor": 5
}
