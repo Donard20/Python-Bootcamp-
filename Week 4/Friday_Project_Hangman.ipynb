{
 "cells": [
  {
   "cell_type": "markdown",
   "id": "6310e692",
   "metadata": {},
   "source": [
    "# Friday Project: Creating Hangman"
   ]
  },
  {
   "cell_type": "markdown",
   "id": "78a56691",
   "metadata": {},
   "source": [
    "The logic is essentially the steps needed to\n",
    "play the game:\n",
    "1. Select a word to play with.\n",
    "2. Ask user for input.\n",
    "3. Check if guess is correct.\n",
    "a. If it is, show the letter in the proper place.\n",
    "b. If it isn’t, lose a life.\n",
    "4. Continue steps 2 and 3 until one of the following occurs:\n",
    "a. The user guesses the word correctly.\n",
    "b. The user loses all their lives."
   ]
  },
  {
   "cell_type": "code",
   "execution_count": 2,
   "id": "7d1ccebe",
   "metadata": {},
   "outputs": [
    {
     "name": "stdout",
     "output_type": "stream",
     "text": [
      "You guessed correctly!\n",
      "Incorrect, you lost a life.\n",
      "You lost all your lives, you lost!\n",
      "The guess word is Basket\n"
     ]
    }
   ],
   "source": [
    "# import additional functions\n",
    "from random import choice\n",
    "from IPython.display import clear_output\n",
    "\n",
    "# declare game variables\n",
    "words = [ \"tree\", \"basket\", \"chair\", \"paper\", \"python\" ]\n",
    "word = choice(words) # randomly chooses a word from words list\n",
    "guessed, lives, game_over = [ ], 7, False # multi variable assignment\n",
    "\n",
    "# create a list of underscores to the length of the word\n",
    "guesses = [ \"_ \" ] * len(word)\n",
    "\n",
    "# create main game loop\n",
    "while not game_over:\n",
    "    # output game information\n",
    "    hidden_word = \"\".join(guesses)\n",
    "    print( \"Word to guess: {}\".format(hidden_word) )\n",
    "    print(\"Your guessed letters: {}\".format(guessed) )\n",
    "    print( \"Lives: {}\".format(lives) )\n",
    "\n",
    "    ans = input(\"Type quit or guess a letter: \").lower( )\n",
    "    clear_output( ) # clear all previous output\n",
    "    \n",
    "    \n",
    "    if ans == \"quit\":\n",
    "        print(\"Thanks for playing.\")\n",
    "        game_over = True\n",
    "    # elif ans in word:\n",
    "    elif ans in word and ans not in guessed:\n",
    "        print(\"You guessed correctly!\")\n",
    "\n",
    "    # create a loop to change underscore to proper letter\n",
    "    for i in range( len(word) ):\n",
    "        if word[ i ] == ans: # comapares values at indexes\n",
    "            guesses[ i ] = ans\n",
    "            \n",
    "        elif ans in guessed:\n",
    "            print(\"You already guessed that. Try again.\")\n",
    "\n",
    "    else:\n",
    "        lives -= 1\n",
    "        print(\"Incorrect, you lost a life.\")   \n",
    "\n",
    "    if ans not in guessed:\n",
    "        guessed.append(ans) # add ans to guessed list\n",
    "    if lives <= 0:\n",
    "        print(\"You lost all your lives, you lost!\")\n",
    "        print(\"The guess word is {}\".format(word.title()))  # I added this to see the correct word\n",
    "        game_over = True\n",
    "    elif word == \"\".join(guesses):\n",
    "        print(\"Congratulations, you guessed it correctly!\")\n",
    "        game_over = True\n"
   ]
  },
  {
   "cell_type": "code",
   "execution_count": null,
   "id": "8fde96d0",
   "metadata": {},
   "outputs": [],
   "source": []
  }
 ],
 "metadata": {
  "kernelspec": {
   "display_name": "Python 3 (ipykernel)",
   "language": "python",
   "name": "python3"
  },
  "language_info": {
   "codemirror_mode": {
    "name": "ipython",
    "version": 3
   },
   "file_extension": ".py",
   "mimetype": "text/x-python",
   "name": "python",
   "nbconvert_exporter": "python",
   "pygments_lexer": "ipython3",
   "version": "3.9.13"
  }
 },
 "nbformat": 4,
 "nbformat_minor": 5
}
